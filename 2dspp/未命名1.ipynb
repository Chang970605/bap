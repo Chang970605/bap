{
 "cells": [
  {
   "cell_type": "code",
   "execution_count": 1,
   "id": "1e131bff",
   "metadata": {},
   "outputs": [],
   "source": [
    "import ha\n",
    "import matplotlib.pyplot as plt \n",
    "import random\n",
    "import math\n",
    "import copy"
   ]
  },
  {
   "cell_type": "code",
   "execution_count": 444,
   "id": "e6631533",
   "metadata": {},
   "outputs": [],
   "source": [
    "import copy\n",
    "\n",
    "def ffd(w, h, W, p):\n",
    "    \"\"\"\n",
    "    直接摆在距离偏好位置最近的点\n",
    "    w:list of width\n",
    "    h:list of height\n",
    "    W:width\n",
    "    p:偏好位置\n",
    "    \"\"\"\n",
    "    n = len(w)    # 箱子总数\n",
    "    ans = [[0, 0, 0, 0, 0]]      # 保存[[xi,yi,wi,hi],...]    需要排好序,以yi排序升序\n",
    "    for i in range(n):\n",
    "        # 开始安排第i个箱子\n",
    "        tmp_h = h[i]\n",
    "        tmp_w = w[i]\n",
    "        tmp_p = p[i]\n",
    "        tmp_intervals, tmp_y= find_position(ans,tmp_w,tmp_h,W)\n",
    "        # tmp_intervals为可用的区间，下面决定三种不同的策略\n",
    "        # 先考虑放在最近的点\n",
    "        tmp_x = tmp_intervals[0][0]\n",
    "        for j in tmp_intervals:\n",
    "            if p[i] >= j[0] and p[i] <= j[1]:\n",
    "                tmp_x = p[i]\n",
    "                break\n",
    "            elif abs(tmp_x - p[i]) > abs(j[0] - p[i]):\n",
    "                tmp_x = j[0]\n",
    "            elif abs(tmp_x - p[i]) > abs(j[1] - p[i]):\n",
    "                tmp_x = j[1]\n",
    "        tmp_ans = [tmp_x, tmp_y, tmp_w, tmp_h, tmp_p, i]\n",
    "        for k in range(len(ans)):\n",
    "            if ans[k][1] + ans[k][3] > tmp_y + tmp_h:\n",
    "                ans = ans[:k] + [tmp_ans] + ans[k:]\n",
    "                break\n",
    "        if len(ans) != i + 2:\n",
    "            ans.append(tmp_ans)\n",
    "    return ans\n",
    "        \n",
    "def ffdtwo(w, h, W, p):\n",
    "    \"\"\"\n",
    "    策略2\n",
    "    直接摆在距离偏好位置最近的边缘点\n",
    "    w:list of width\n",
    "    h:list of height\n",
    "    W:width\n",
    "    p:偏好位置\n",
    "    \"\"\"\n",
    "    n = len(w)    # 箱子总数\n",
    "    ans = [[0, 0, 0, 0, 0]]      # 保存[[xi,yi,wi,hi],...]    需要排好序,以yi排序升序\n",
    "    for i in range(n):\n",
    "        # 开始安排第i个箱子\n",
    "        tmp_h = h[i]\n",
    "        tmp_w = w[i]\n",
    "        tmp_p = p[i]\n",
    "        tmp_intervals, tmp_y= find_position(ans,tmp_w,tmp_h,W)\n",
    "        # tmp_intervals为可用的区间，下面决定三种不同的策略\n",
    "        # 考虑放在最近的边缘点\n",
    "        tmp_x = tmp_intervals[0][0]\n",
    "        for j in tmp_intervals:\n",
    "            # if p[i] >= j[0] and p[i] <= j[1]:\n",
    "            #     tmp_x = p[i]\n",
    "            #     break\n",
    "            if abs(tmp_x - p[i]) > abs(j[0] - p[i]):\n",
    "                tmp_x = j[0]\n",
    "            elif abs(tmp_x - p[i]) > abs(j[1] - p[i]):\n",
    "                tmp_x = j[1]\n",
    "        tmp_ans = [tmp_x, tmp_y, tmp_w, tmp_h, tmp_p, i]\n",
    "        for k in range(len(ans)):\n",
    "            if ans[k][1] + ans[k][3] > tmp_y + tmp_h:\n",
    "                ans = ans[:k] + [tmp_ans] + ans[k:]\n",
    "                break\n",
    "        if len(ans) != i + 2:\n",
    "            ans.append(tmp_ans)\n",
    "    return ans\n",
    "\n",
    "def ffdthree(w, h, W, p):\n",
    "    \"\"\"\n",
    "    策略3\n",
    "    直接摆在距离偏好位置最近的最边缘点\n",
    "    w:list of width\n",
    "    h:list of height\n",
    "    W:width\n",
    "    p:偏好位置\n",
    "    \"\"\"\n",
    "    n = len(w)    # 箱子总数\n",
    "    ans = [[0, 0, 0, 0, 0]]      # 保存[[xi,yi,wi,hi],...]    需要排好序,以yi排序升序\n",
    "    for i in range(n):\n",
    "        # 开始安排第i个箱子\n",
    "        tmp_h = h[i]\n",
    "        tmp_w = w[i]\n",
    "        tmp_p = p[i]\n",
    "        tmp_intervals, tmp_y= find_position(ans,tmp_w,tmp_h,W)\n",
    "        # tmp_intervals为可用的区间，下面决定三种不同的策略\n",
    "        # 考虑放在最近的边缘点\n",
    "        tmp_x = tmp_intervals[0][0]\n",
    "        if abs(tmp_intervals[0][0] - p[i]) >= abs(tmp_intervals[-1][1] - p[i]):\n",
    "            tmp_x = tmp_intervals[-1][1]\n",
    "        tmp_ans = [tmp_x, tmp_y, tmp_w, tmp_h, tmp_p]\n",
    "        for k in range(len(ans)):\n",
    "            if ans[k][1] + ans[k][3] > tmp_y + tmp_h:\n",
    "                ans = ans[:k] + [tmp_ans] + ans[k:]\n",
    "                break\n",
    "        if len(ans) != i + 2:\n",
    "            ans.append(tmp_ans)\n",
    "    return ans\n",
    "\n",
    "def ffd_beamsearch(w, h, W, p, alpha):\n",
    "    \"\"\"\n",
    "    带有beam_search版本的启发式算法，从三个里面选？\n",
    "    w:list of width\n",
    "    h:list of height\n",
    "    W:width\n",
    "    p:偏好位置\n",
    "    \"\"\"\n",
    "    n = len(w)    # 箱子总数\n",
    "    # beam_ans = []\n",
    "    ans = [[0, 0, 0, 0, 0, 0]]      # 保存[[xi,yi,wi,hi],...]    需要排好序,以yi排序升序 第一个最后一位保存一个打分函数\n",
    "    beam_ans = [ans]\n",
    "    for i in range(n):\n",
    "        # 开始安排第i个箱子\n",
    "        tmp_h = h[i]\n",
    "        tmp_w = w[i]\n",
    "        tmp_p = p[i]\n",
    "        tmp_beam_ans = []\n",
    "        for tmp_ans in beam_ans:\n",
    "            # 除了改变tmp_ans，还需要新加几个\n",
    "            tmp_intervals, tmp_y= find_position(tmp_ans,tmp_w,tmp_h,W)\n",
    "            # tmp_intervals为可用的区间，下面决定三种不同的策略\n",
    "            # 先考虑放在最近的点\n",
    "            tmp_xx = set()  #将tmp_x保存在这里面\n",
    "            tmp_x = tmp_intervals[0][0]\n",
    "            for j in tmp_intervals:\n",
    "                if p[i] >= j[0] and p[i] <= j[1]:\n",
    "                    tmp_x = p[i]\n",
    "                    break\n",
    "                elif abs(tmp_x - p[i]) > abs(j[0] - p[i]):\n",
    "                    tmp_x = j[0]\n",
    "                elif abs(tmp_x - p[i]) > abs(j[1] - p[i]):\n",
    "                    tmp_x = j[1]\n",
    "            tmp_xx.add(tmp_x)\n",
    "            # 第二种\n",
    "            tmp_x = tmp_intervals[0][0]\n",
    "            for j in tmp_intervals:\n",
    "            # if p[i] >= j[0] and p[i] <= j[1]:\n",
    "            #     tmp_x = p[i]\n",
    "            #     break\n",
    "                if abs(tmp_x - p[i]) > abs(j[0] - p[i]):\n",
    "                    tmp_x = j[0]\n",
    "                elif abs(tmp_x - p[i]) > abs(j[1] - p[i]):\n",
    "                    tmp_x = j[1]\n",
    "            tmp_xx.add(tmp_x)\n",
    "            # 第三种\n",
    "            tmp_x = tmp_intervals[0][0]\n",
    "            if abs(tmp_intervals[0][0] - p[i]) >= abs(tmp_intervals[-1][1] - p[i]):\n",
    "                tmp_x = tmp_intervals[-1][1]\n",
    "            tmp_xx.add(tmp_x)\n",
    "            # 此时tmp_xx中保存的是可能的x坐标\n",
    "            for tmp_x in tmp_xx:\n",
    "                # 对三种分别进行添加\n",
    "                ttmp_ans = [tmp_x, tmp_y, tmp_w, tmp_h, tmp_p]\n",
    "                tmpppp_ans = copy.deepcopy(tmp_ans)\n",
    "                for k in range(len(tmpppp_ans)):\n",
    "                    if tmpppp_ans[k][1] + tmpppp_ans[k][3] > tmp_y + tmp_h:\n",
    "                        tmpppp_ans = tmpppp_ans[:k] + [ttmp_ans] + tmpppp_ans[k:]\n",
    "                        break\n",
    "                if len(tmpppp_ans) != i + 2:\n",
    "                    tmpppp_ans.append(ttmp_ans)\n",
    "                tmpppp_ans[0][5] += abs(tmp_x - tmp_p)\n",
    "                tmp_beam_ans.append(tmpppp_ans)\n",
    "        # tmp_beam_ans中取出前k个s\n",
    "        tmp_beam_ans.sort(key = lambda x : alpha * x[0][-1] + x[-1][1] + x[-1][3])\n",
    "        beam_ans = tmp_beam_ans[:10]\n",
    "    return beam_ans[0]\n",
    "\n",
    "def find_position(p, w, h, W):\n",
    "    '''\n",
    "    从已经存放好的箱子中找出可存放的位置\n",
    "    p: 之前已经存好的位置信息.list of [x,y,w,h]\n",
    "    w: 该箱子的width\n",
    "    h: 该箱子的height\n",
    "    输出区间的集合[[a,b],[c,d]]\n",
    "    '''\n",
    "    # 先找出在y[i],y[i] + h 中有重合的箱子\n",
    "    for i in range(len(p)):\n",
    "        y_start = p[i][1] + p[i][3]\n",
    "        y_end = y_start + h\n",
    "        # 在区间[y_start, y_end]中找有重合的箱子\n",
    "        tmp_intervals = []\n",
    "        for j in range(len(p)):\n",
    "            if p[j][1] >= y_end or p[j][1] + p[j][3] <= y_start:\n",
    "                continue\n",
    "            else:\n",
    "                # 有交集\n",
    "                tmp_intervals.append([p[j][0],p[j][0] + p[j][2]])\n",
    "        # 合并区间tmp_intervals\n",
    "        if tmp_intervals == []:\n",
    "            return ([[0, W - w]],y_start)\n",
    "        final_intervals = merge(tmp_intervals)\n",
    "        # [[],[]]\n",
    "        intervals = []\n",
    "        tmp = 0\n",
    "        for i in final_intervals:\n",
    "            if i[0] - tmp >= w:\n",
    "                intervals.append([tmp, i[0] - w])\n",
    "            tmp = i[1]\n",
    "        if W - tmp >= w:\n",
    "            intervals.append([tmp, W - w])\n",
    "        if len(intervals) > 0:\n",
    "            return (intervals, y_start)\n",
    "\n",
    "\n",
    "def merge(intervals):\n",
    "    \"\"\"\n",
    "    合并区间\n",
    "    \"\"\"\n",
    "    res = []\n",
    "    intervals.sort(key = lambda x : x[0])\n",
    "    tmp = intervals[0]\n",
    "    for i in intervals:\n",
    "        if i[0] > tmp[1]:\n",
    "            res.append(tmp)\n",
    "            tmp = i\n",
    "        else:\n",
    "            tmp[1] = max(tmp[1], i[1])\n",
    "    res.append(tmp)\n",
    "    return res   \n"
   ]
  },
  {
   "cell_type": "code",
   "execution_count": 57,
   "id": "4abc7b5c",
   "metadata": {},
   "outputs": [],
   "source": [
    "def sketch_map(W, w, h, x, y, p, number, name):\n",
    "    \"\"\"\n",
    "    画结果示意图\n",
    "    W: 容器的宽度\n",
    "    w: 数组，为每个箱子的宽度\n",
    "    h: 数组，为每个箱子的高度\n",
    "    p: 数组，为每个箱子的偏好位置\n",
    "    x: 数组，为每个箱子左下角x坐标\n",
    "    y: 数组，为每个箱子左下角y坐标\n",
    "    name: str，图片保存名字\n",
    "    \"\"\"\n",
    "    # 先确定x,y轴范围\n",
    "    y_label_range = 1.6 * max([i + j for i, j in zip(y, h)])\n",
    "    x_label_range = W\n",
    "    \n",
    "    # 开始做图\n",
    "    fig = plt.figure()\n",
    "    ax = fig.add_subplot(111)\n",
    "    \n",
    "    #建立矩形\n",
    "    for i in range(len(w)):\n",
    "        if x[i] == p[i]:\n",
    "            c = 'red'\n",
    "            l = 2\n",
    "        else:\n",
    "            c = 'black'\n",
    "            l = 1\n",
    "        rect = plt.Rectangle(\n",
    "                (x[i], y[i]),  # (x,y)矩形左下角\n",
    "                w[i],          # width长\n",
    "                h[i],          # height宽\n",
    "                fill=False,\n",
    "                              edgecolor=c, linewidth=l, \n",
    "                alpha=0.5)\n",
    "        ax.add_patch(rect)\n",
    "        ax.text((2 * x[i] + w[i])/2 - 1, (2 * y[i] + h[i])/2 - 1,\n",
    "                str(number[i]) +':' + str(int(abs(x[i]-p[i]))),\n",
    "                bbox=dict(facecolor='blue', alpha=0),\n",
    "                fontsize=14, color='black')\n",
    "    # 建立图\n",
    "    plt.xlim(0, x_label_range)\n",
    "    plt.ylim(0, y_label_range)\n",
    "    plt.show()\n",
    "    plt.savefig(name + \".png\")"
   ]
  },
  {
   "cell_type": "code",
   "execution_count": 386,
   "id": "0f0e7f6c",
   "metadata": {},
   "outputs": [],
   "source": [
    "def ffd_withswap(w,h,W,p,alpha):\n",
    "    # 先做一遍逆序\n",
    "    ans = math.inf\n",
    "    best_result = []\n",
    "    best_order_w = copy.deepcopy(w)\n",
    "    best_order_h = copy.deepcopy(h)\n",
    "    best_order_p = copy.deepcopy(p)\n",
    "    n = len(w)\n",
    "    for i in range(n):\n",
    "        for j in range(n):\n",
    "            h[i], h[j] = h[j], h[i]\n",
    "            w[i], w[j] = w[j], w[i]\n",
    "            p[i], p[j] = p[j], p[i]\n",
    "            tmp_result = ha.ffd(w,h,W,p)\n",
    "            tmp_ans = tmp_result[-1][1] + tmp_result[-1][3]\n",
    "            for k in tmp_result:\n",
    "                tmp_ans += alpha * abs(k[0] - k[4])\n",
    "            ans = min(tmp_ans, ans)\n",
    "            if ans == tmp_ans:\n",
    "                best_result = copy.deepcopy(tmp_result)\n",
    "                best_order_w = copy.deepcopy(w)\n",
    "                best_order_h = copy.deepcopy(h)\n",
    "                best_order_p = copy.deepcopy(p)\n",
    "        w = copy.deepcopy(best_order_w)\n",
    "        h = copy.deepcopy(best_order_h)\n",
    "        p = copy.deepcopy(best_order_p)\n",
    "    print(ans)\n",
    "    if alpha != 0:\n",
    "        print((ans - (best_result[-1][1] + best_result[-1][3]))/alpha)\n",
    "    if alpha == 0:\n",
    "        punish = 0\n",
    "        for i in best_result:\n",
    "            punish += abs(i[0] - i[4])\n",
    "        print(punish)\n",
    "    return # best_result"
   ]
  },
  {
   "cell_type": "code",
   "execution_count": 387,
   "id": "3f577b7d",
   "metadata": {},
   "outputs": [],
   "source": [
    "def ffdtwo_withswap(w,h,W,p,alpha):\n",
    "    # 先做一遍逆序\n",
    "    ans = math.inf\n",
    "    best_result = []\n",
    "    best_order_w = copy.deepcopy(w)\n",
    "    best_order_h = copy.deepcopy(h)\n",
    "    best_order_p = copy.deepcopy(p)\n",
    "    n = len(w)\n",
    "    for i in range(n):\n",
    "        for j in range(n):\n",
    "            h[i], h[j] = h[j], h[i]\n",
    "            w[i], w[j] = w[j], w[i]\n",
    "            p[i], p[j] = p[j], p[i]\n",
    "            tmp_result = ha.ffdtwo(w,h,W,p)\n",
    "            tmp_ans = tmp_result[-1][1] + tmp_result[-1][3]\n",
    "            for k in tmp_result:\n",
    "                tmp_ans += alpha * abs(k[0] - k[4])\n",
    "            ans = min(tmp_ans, ans)\n",
    "            if ans == tmp_ans:\n",
    "                best_result = copy.deepcopy(tmp_result)\n",
    "                best_order_w = copy.deepcopy(w)\n",
    "                best_order_h = copy.deepcopy(h)\n",
    "                best_order_p = copy.deepcopy(p)\n",
    "        w = copy.deepcopy(best_order_w)\n",
    "        h = copy.deepcopy(best_order_h)\n",
    "        p = copy.deepcopy(best_order_p)\n",
    "    print(ans)\n",
    "    if alpha != 0:\n",
    "        print((ans - (best_result[-1][1] + best_result[-1][3]))/alpha)\n",
    "    if alpha == 0:\n",
    "        punish = 0\n",
    "        for i in best_result:\n",
    "            punish += abs(i[0] - i[4])\n",
    "        print(punish)\n",
    "    return #best_result"
   ]
  },
  {
   "cell_type": "code",
   "execution_count": 398,
   "id": "f0ca084d",
   "metadata": {},
   "outputs": [],
   "source": [
    "def ffdthree_withswap(w,h,W,p,alpha):\n",
    "    # 先做一遍逆序\n",
    "    ans = math.inf\n",
    "    best_result = []\n",
    "    best_order_w = copy.deepcopy(w)\n",
    "    best_order_h = copy.deepcopy(h)\n",
    "    best_order_p = copy.deepcopy(p)\n",
    "    n = len(w)\n",
    "    for i in range(n):\n",
    "        for j in range(n):\n",
    "            h[i], h[j] = h[j], h[i]\n",
    "            w[i], w[j] = w[j], w[i]\n",
    "            p[i], p[j] = p[j], p[i]\n",
    "            tmp_result = ha.ffdthree(w,h,W,p)\n",
    "            tmp_ans = tmp_result[-1][1] + tmp_result[-1][3]\n",
    "            for k in tmp_result:\n",
    "                tmp_ans += alpha * abs(k[0] - k[4])\n",
    "            ans = min(tmp_ans, ans)\n",
    "            if ans == tmp_ans:\n",
    "                best_result = copy.deepcopy(tmp_result)\n",
    "                best_order_w = copy.deepcopy(w)\n",
    "                best_order_h = copy.deepcopy(h)\n",
    "                best_order_p = copy.deepcopy(p)\n",
    "        w = copy.deepcopy(best_order_w)\n",
    "        h = copy.deepcopy(best_order_h)\n",
    "        p = copy.deepcopy(best_order_p)\n",
    "    print(ans)\n",
    "    if alpha != 0:\n",
    "        print((ans - (best_result[-1][1] + best_result[-1][3]))/alpha)\n",
    "    if alpha == 0:\n",
    "        punish = 0\n",
    "        for i in best_result:\n",
    "            punish += abs(i[0] - i[4])\n",
    "        print(punish)\n",
    "    return #best_result"
   ]
  },
  {
   "cell_type": "code",
   "execution_count": 388,
   "id": "b697afdc",
   "metadata": {},
   "outputs": [],
   "source": [
    "def ffd_beamsearch_withswap(w,h,W,p,alpha):\n",
    "    # 先做一遍逆序\n",
    "    ans = math.inf\n",
    "    best_result = []\n",
    "    best_order_w = copy.deepcopy(w)\n",
    "    best_order_h = copy.deepcopy(h)\n",
    "    best_order_p = copy.deepcopy(p)\n",
    "    n = len(w)\n",
    "    for i in range(n):\n",
    "        for j in range(n):\n",
    "            h[i], h[j] = h[j], h[i]\n",
    "            w[i], w[j] = w[j], w[i]\n",
    "            p[i], p[j] = p[j], p[i]\n",
    "            tmp_result = ha.ffd_beamsearch(w,h,W,p,alpha)\n",
    "            tmp_ans = tmp_result[-1][1] + tmp_result[-1][3]\n",
    "            tmp_ans += alpha * tmp_result[0][5]\n",
    "            ans = min(tmp_ans, ans)\n",
    "            if ans == tmp_ans:\n",
    "                best_result = copy.deepcopy(tmp_result)\n",
    "                best_order_w = copy.deepcopy(w)\n",
    "                best_order_h = copy.deepcopy(h)\n",
    "                best_order_p = copy.deepcopy(p)\n",
    "        w = copy.deepcopy(best_order_w)\n",
    "        h = copy.deepcopy(best_order_h)\n",
    "        p = copy.deepcopy(best_order_p)\n",
    "    print(ans)\n",
    "    if alpha != 0:\n",
    "        print((ans - (best_result[-1][1] + best_result[-1][3]))/alpha)\n",
    "    elif alpha == 0:\n",
    "        print(best_result[0][5])\n",
    "    return # best_result"
   ]
  },
  {
   "cell_type": "code",
   "execution_count": 152,
   "id": "47cf2660",
   "metadata": {},
   "outputs": [
    {
     "data": {
      "text/plain": [
       "[3, 1]"
      ]
     },
     "execution_count": 152,
     "metadata": {},
     "output_type": "execute_result"
    }
   ],
   "source": [
    "a = [1,3]\n",
    "a[0],a[1] = a[1],a[0]\n",
    "a"
   ]
  },
  {
   "cell_type": "code",
   "execution_count": 403,
   "id": "d6fab479",
   "metadata": {},
   "outputs": [
    {
     "name": "stdout",
     "output_type": "stream",
     "text": [
      "alpha = 0\n",
      "80\n",
      "197\n",
      "83\n",
      "207\n",
      "80\n",
      "201\n",
      "79\n",
      "193\n",
      "alpha = 0.1\n",
      "90.69999999999999\n",
      "86.99999999999989\n",
      "89.9\n",
      "89.00000000000006\n",
      "91.59999999999998\n",
      "85.9999999999998\n",
      "90.8\n",
      "77.99999999999997\n",
      "alpha = 0.2\n",
      "101.8\n",
      "88.99999999999999\n",
      "98.80000000000001\n",
      "89.00000000000006\n",
      "100.20000000000002\n",
      "86.00000000000009\n",
      "98.6\n",
      "77.99999999999997\n",
      "alpha = 0.3\n",
      "110.7\n",
      "89.00000000000001\n",
      "111.19999999999996\n",
      "93.99999999999987\n",
      "114.1\n",
      "96.99999999999999\n",
      "106.4\n",
      "78.00000000000003\n",
      "alpha = 0.4\n",
      "118.79999999999998\n",
      "81.99999999999996\n",
      "120.4\n",
      "91.00000000000001\n",
      "123.80000000000001\n",
      "97.00000000000003\n",
      "114.2\n",
      "78.0\n",
      "alpha = 0.5\n",
      "112.5\n",
      "41.0\n",
      "129.5\n",
      "91.0\n",
      "133.5\n",
      "97.0\n",
      "122.0\n",
      "78.0\n",
      "alpha = 1\n",
      "133\n",
      "41.0\n",
      "174\n",
      "88.0\n",
      "182\n",
      "97.0\n",
      "135\n",
      "44.0\n",
      "alpha = 1.5\n",
      "153.5\n",
      "41.0\n",
      "216.5\n",
      "89.0\n",
      "230.5\n",
      "97.0\n",
      "192.5\n",
      "73.0\n",
      "alpha = 2\n",
      "174\n",
      "41.0\n",
      "261\n",
      "89.0\n",
      "279\n",
      "97.0\n",
      "229\n",
      "73.0\n",
      "alpha = 3\n",
      "215\n",
      "41.0\n",
      "350\n",
      "89.0\n",
      "376\n",
      "97.0\n",
      "302\n",
      "73.0\n"
     ]
    }
   ],
   "source": [
    "n = 30\n",
    "w = {}\n",
    "h = {}\n",
    "p = {}\n",
    "n_small = n // 3\n",
    "n_mid = n //3\n",
    "n_large = n - n_small - n_mid\n",
    "tmp_w = []\n",
    "tmp_h = []\n",
    "for i in range(1, n_small + 1):\n",
    "    tmp_w.append(random.randint(1, 3))\n",
    "    tmp_h.append(random.randint(3, 6))\n",
    "tmp_w.sort()\n",
    "tmp_h.sort()\n",
    "#ww = ww[::-1]\n",
    "#hh = hh[::-1]\n",
    "for i in range(1, n_small + 1):\n",
    "    w[i] = tmp_w[i - 1]\n",
    "    h[i] = tmp_h[i - 1]\n",
    "    p[i] = random.randint(0, 20 - w[i])\n",
    "tmp_w = []\n",
    "tmp_h = []\n",
    "for i in range(n_small + 1, n_small + n_mid + 1):\n",
    "    tmp_w.append(random.randint(4, 6))\n",
    "    tmp_h.append(random.randint(7, 10))\n",
    "tmp_w.sort()\n",
    "tmp_h.sort()\n",
    "#ww = ww[::-1]\n",
    "#hh = hh[::-1]\n",
    "for i in range(n_small + 1, n_small + n_mid + 1):\n",
    "    w[i] = tmp_w[i - n_small - 1]\n",
    "    h[i] = tmp_h[i - n_small - 1]\n",
    "    p[i] = random.randint(0, 20 - w[i])\n",
    "tmp_w = []\n",
    "tmp_h = []\n",
    "for i in range(n_small + n_mid + 1, n + 1):\n",
    "    tmp_w.append(random.randint(7, 9))\n",
    "    tmp_h.append(random.randint(11, 14))\n",
    "tmp_w.sort()\n",
    "tmp_h.sort()\n",
    "#ww = ww[::-1]\n",
    "#hh = hh[::-1]\n",
    "for i in range(n_small + n_mid + 1, n + 1):\n",
    "    w[i] = tmp_w[i - n_small - n_mid - 1]\n",
    "    h[i] = tmp_h[i - n_small - n_mid - 1]\n",
    "    p[i] = random.randint(0, 20 - w[i])\n",
    "h = list(h.values())\n",
    "w = list(w.values())\n",
    "p = list(p.values())\n",
    "h = h[::-1]\n",
    "w = w[::-1]\n",
    "p = p[::-1]\n",
    "for alpha in [0,0.1,0.2,0.3,0.4,0.5,1,1.5,2,3]:\n",
    "    print('alpha = ' + str(alpha))\n",
    "    ww = copy.deepcopy(w)\n",
    "    hh = copy.deepcopy(h)\n",
    "    pp = copy.deepcopy(p)\n",
    "    ffd_withswap(ww,hh,20,pp,alpha)\n",
    "    ww = copy.deepcopy(w)\n",
    "    hh = copy.deepcopy(h)\n",
    "    pp = copy.deepcopy(p)\n",
    "    ffdtwo_withswap(ww,hh,20,pp,alpha)\n",
    "    ww = copy.deepcopy(w)\n",
    "    hh = copy.deepcopy(h)\n",
    "    pp = copy.deepcopy(p)\n",
    "    ffdthree_withswap(ww,hh,20,pp,alpha)\n",
    "    ww = copy.deepcopy(w)\n",
    "    hh = copy.deepcopy(h)\n",
    "    pp = copy.deepcopy(p)\n",
    "    ffd_beamsearch_withswap(ww,hh,20,pp,alpha)"
   ]
  },
  {
   "cell_type": "code",
   "execution_count": 132,
   "id": "92495730",
   "metadata": {},
   "outputs": [],
   "source": [
    "h = list(h.values())\n",
    "w = list(w.values())\n",
    "p = list(p.values())"
   ]
  },
  {
   "cell_type": "code",
   "execution_count": 133,
   "id": "8ccee47f",
   "metadata": {},
   "outputs": [],
   "source": [
    "h = h[::-1]\n",
    "w = w[::-1]\n",
    "p = p[::-1]"
   ]
  },
  {
   "cell_type": "code",
   "execution_count": 134,
   "id": "aa55a360",
   "metadata": {},
   "outputs": [
    {
     "data": {
      "text/plain": [
       "[14,\n",
       " 14,\n",
       " 14,\n",
       " 14,\n",
       " 14,\n",
       " 13,\n",
       " 13,\n",
       " 11,\n",
       " 11,\n",
       " 11,\n",
       " 10,\n",
       " 10,\n",
       " 9,\n",
       " 8,\n",
       " 8,\n",
       " 8,\n",
       " 7,\n",
       " 7,\n",
       " 7,\n",
       " 7,\n",
       " 6,\n",
       " 5,\n",
       " 5,\n",
       " 5,\n",
       " 5,\n",
       " 5,\n",
       " 4,\n",
       " 3,\n",
       " 3,\n",
       " 3]"
      ]
     },
     "execution_count": 134,
     "metadata": {},
     "output_type": "execute_result"
    }
   ],
   "source": [
    "h"
   ]
  },
  {
   "cell_type": "code",
   "execution_count": 39,
   "id": "d5dbfc1a",
   "metadata": {},
   "outputs": [
    {
     "data": {
      "text/plain": [
       "[14, 12, 12, 12, 7, 7, 6, 6, 5, 5]"
      ]
     },
     "execution_count": 39,
     "metadata": {},
     "output_type": "execute_result"
    }
   ],
   "source": [
    "w = {}     # 箱子宽\n",
    "h = {}     # 箱子高\n",
    "p = {}     # 箱子偏好位置\n",
    "w[1], h[1] = 2, 5\n",
    "w[2], h[2] = 3, 5\n",
    "w[3], h[3] = 3, 6\n",
    "w[4], h[4] = 3, 6\n",
    "w[5], h[5] = 3, 7\n",
    "w[6], h[6] = 5, 7\n",
    "w[7], h[7] = 5, 12\n",
    "w[8], h[8] = 7, 12\n",
    "w[9], h[9] = 8, 12\n",
    "w[10], h[10] = 9, 14\n",
    "p = {1: 10, 2: 5, 3: 8, 4: 2, 5: 10, 6: 8, 7: 6, 8: 2, 9: 8, 10: 10}\n",
    "ww = []\n",
    "hh = []\n",
    "pp = []\n",
    "for i in w:\n",
    "    ww.append(w[i])\n",
    "    hh.append(h[i])\n",
    "    pp.append(p[i])\n",
    "ww = ww[::-1]\n",
    "hh = hh[::-1]\n",
    "pp = pp[::-1]\n",
    "hh"
   ]
  },
  {
   "cell_type": "code",
   "execution_count": 35,
   "id": "a51f51f3",
   "metadata": {},
   "outputs": [],
   "source": [
    "import ha"
   ]
  },
  {
   "cell_type": "code",
   "execution_count": 111,
   "id": "a4f1b9c5",
   "metadata": {},
   "outputs": [],
   "source": [
    "import copy\n",
    "import math\n",
    "import time\n",
    "\n",
    "def ffd(w, h, W, p):\n",
    "    \"\"\"\n",
    "    直接摆在距离偏好位置最近的点\n",
    "    w:list of width\n",
    "    h:list of height\n",
    "    W:width\n",
    "    p:偏好位置\n",
    "    \"\"\"\n",
    "    n = len(w)    # 箱子总数\n",
    "    ans = [[0, 0, 0, 0, 0]]      # 保存[[xi,yi,wi,hi],...]    需要排好序,以yi排序升序\n",
    "    for i in range(n):\n",
    "        # 开始安排第i个箱子\n",
    "        tmp_h = h[i]\n",
    "        tmp_w = w[i]\n",
    "        tmp_p = p[i]\n",
    "        tmp_intervals, tmp_y= find_position(ans,tmp_w,tmp_h,W)\n",
    "        # tmp_intervals为可用的区间，下面决定三种不同的策略\n",
    "        # 先考虑放在最近的点\n",
    "        tmp_x = tmp_intervals[0][0]\n",
    "        for j in tmp_intervals:\n",
    "            if p[i] >= j[0] and p[i] <= j[1]:\n",
    "                tmp_x = p[i]\n",
    "                break\n",
    "            elif abs(tmp_x - p[i]) > abs(j[0] - p[i]):\n",
    "                tmp_x = j[0]\n",
    "            elif abs(tmp_x - p[i]) > abs(j[1] - p[i]):\n",
    "                tmp_x = j[1]\n",
    "        tmp_ans = [tmp_x, tmp_y, tmp_w, tmp_h, tmp_p, i]\n",
    "        for k in range(len(ans)):\n",
    "            if ans[k][1] + ans[k][3] > tmp_y + tmp_h:\n",
    "                ans = ans[:k] + [tmp_ans] + ans[k:]\n",
    "                break\n",
    "        if len(ans) != i + 2:\n",
    "            ans.append(tmp_ans)\n",
    "    return ans\n",
    "        \n",
    "def ffdtwo(w, h, W, p):\n",
    "    \"\"\"\n",
    "    策略2\n",
    "    直接摆在距离偏好位置最近的边缘点\n",
    "    w:list of width\n",
    "    h:list of height\n",
    "    W:width\n",
    "    p:偏好位置\n",
    "    \"\"\"\n",
    "    n = len(w)    # 箱子总数\n",
    "    ans = [[0, 0, 0, 0, 0]]      # 保存[[xi,yi,wi,hi],...]    需要排好序,以yi排序升序\n",
    "    for i in range(n):\n",
    "        # 开始安排第i个箱子\n",
    "        tmp_h = h[i]\n",
    "        tmp_w = w[i]\n",
    "        tmp_p = p[i]\n",
    "        tmp_intervals, tmp_y= find_position(ans,tmp_w,tmp_h,W)\n",
    "        # tmp_intervals为可用的区间，下面决定三种不同的策略\n",
    "        # 考虑放在最近的边缘点\n",
    "        tmp_x = tmp_intervals[0][0]\n",
    "        for j in tmp_intervals:\n",
    "            # if p[i] >= j[0] and p[i] <= j[1]:\n",
    "            #     tmp_x = p[i]\n",
    "            #     break\n",
    "            if abs(tmp_x - p[i]) > abs(j[0] - p[i]):\n",
    "                tmp_x = j[0]\n",
    "            elif abs(tmp_x - p[i]) > abs(j[1] - p[i]):\n",
    "                tmp_x = j[1]\n",
    "        tmp_ans = [tmp_x, tmp_y, tmp_w, tmp_h, tmp_p, i]\n",
    "        for k in range(len(ans)):\n",
    "            if ans[k][1] + ans[k][3] > tmp_y + tmp_h:\n",
    "                ans = ans[:k] + [tmp_ans] + ans[k:]\n",
    "                break\n",
    "        if len(ans) != i + 2:\n",
    "            ans.append(tmp_ans)\n",
    "    return ans\n",
    "\n",
    "def ffdthree(w, h, W, p):\n",
    "    \"\"\"\n",
    "    策略3\n",
    "    直接摆在距离偏好位置最近的最边缘点\n",
    "    w:list of width\n",
    "    h:list of height\n",
    "    W:width\n",
    "    p:偏好位置\n",
    "    \"\"\"\n",
    "    n = len(w)    # 箱子总数\n",
    "    ans = [[0, 0, 0, 0, 0]]      # 保存[[xi,yi,wi,hi],...]    需要排好序,以yi排序升序\n",
    "    for i in range(n):\n",
    "        # 开始安排第i个箱子\n",
    "        tmp_h = h[i]\n",
    "        tmp_w = w[i]\n",
    "        tmp_p = p[i]\n",
    "        tmp_intervals, tmp_y= find_position(ans,tmp_w,tmp_h,W)\n",
    "        # tmp_intervals为可用的区间，下面决定三种不同的策略\n",
    "        # 考虑放在最近的边缘点\n",
    "        tmp_x = tmp_intervals[0][0]\n",
    "        if abs(tmp_intervals[0][0] - p[i]) >= abs(tmp_intervals[-1][1] - p[i]):\n",
    "            tmp_x = tmp_intervals[-1][1]\n",
    "        tmp_ans = [tmp_x, tmp_y, tmp_w, tmp_h, tmp_p]\n",
    "        for k in range(len(ans)):\n",
    "            if ans[k][1] + ans[k][3] > tmp_y + tmp_h:\n",
    "                ans = ans[:k] + [tmp_ans] + ans[k:]\n",
    "                break\n",
    "        if len(ans) != i + 2:\n",
    "            ans.append(tmp_ans)\n",
    "    return ans\n",
    "\n",
    "def ffd_beamsearch(w, h, W, p, alpha):\n",
    "    \"\"\"\n",
    "    带有beam_search版本的启发式算法，从三个里面选？\n",
    "    w:list of width\n",
    "    h:list of height\n",
    "    W:width\n",
    "    p:偏好位置\n",
    "    \"\"\"\n",
    "    n = len(w)    # 箱子总数\n",
    "    # beam_ans = []\n",
    "    ans = [[0, 0, 0, 0, 0, 0]]      # 保存[[xi,yi,wi,hi],...]    需要排好序,以yi排序升序 第一个最后一位保存一个打分函数\n",
    "    beam_ans = [ans]\n",
    "    for i in range(n):\n",
    "        # 开始安排第i个箱子\n",
    "        tmp_h = h[i]\n",
    "        tmp_w = w[i]\n",
    "        tmp_p = p[i]\n",
    "        tmp_beam_ans = []\n",
    "        for tmp_ans in beam_ans:\n",
    "            # 除了改变tmp_ans，还需要新加几个\n",
    "            tmp_intervals, tmp_y= find_position(tmp_ans,tmp_w,tmp_h,W)\n",
    "            # tmp_intervals为可用的区间，下面决定三种不同的策略\n",
    "            # 先考虑放在最近的点\n",
    "            tmp_xx = set()  #将tmp_x保存在这里面\n",
    "            tmp_x = tmp_intervals[0][0]\n",
    "            for j in tmp_intervals:\n",
    "                if p[i] >= j[0] and p[i] <= j[1]:\n",
    "                    tmp_x = p[i]\n",
    "                    break\n",
    "                elif abs(tmp_x - p[i]) > abs(j[0] - p[i]):\n",
    "                    tmp_x = j[0]\n",
    "                elif abs(tmp_x - p[i]) > abs(j[1] - p[i]):\n",
    "                    tmp_x = j[1]\n",
    "            tmp_xx.add(tmp_x)\n",
    "            # 第二种\n",
    "            tmp_x = tmp_intervals[0][0]\n",
    "            for j in tmp_intervals:\n",
    "            # if p[i] >= j[0] and p[i] <= j[1]:\n",
    "            #     tmp_x = p[i]\n",
    "            #     break\n",
    "                if abs(tmp_x - p[i]) > abs(j[0] - p[i]):\n",
    "                    tmp_x = j[0]\n",
    "                elif abs(tmp_x - p[i]) > abs(j[1] - p[i]):\n",
    "                    tmp_x = j[1]\n",
    "            tmp_xx.add(tmp_x)\n",
    "            # 第三种\n",
    "            tmp_x = tmp_intervals[0][0]\n",
    "            if abs(tmp_intervals[0][0] - p[i]) >= abs(tmp_intervals[-1][1] - p[i]):\n",
    "                tmp_x = tmp_intervals[-1][1]\n",
    "            tmp_xx.add(tmp_x)\n",
    "            # 此时tmp_xx中保存的是可能的x坐标\n",
    "            for tmp_x in tmp_xx:\n",
    "                # 对三种分别进行添加\n",
    "                ttmp_ans = [tmp_x, tmp_y, tmp_w, tmp_h, tmp_p]\n",
    "                tmpppp_ans = copy.deepcopy(tmp_ans)\n",
    "                for k in range(len(tmpppp_ans)):\n",
    "                    if tmpppp_ans[k][1] + tmpppp_ans[k][3] > tmp_y + tmp_h:\n",
    "                        tmpppp_ans = tmpppp_ans[:k] + [ttmp_ans] + tmpppp_ans[k:]\n",
    "                        break\n",
    "                if len(tmpppp_ans) != i + 2:\n",
    "                    tmpppp_ans.append(ttmp_ans)\n",
    "                tmpppp_ans[0][5] += abs(tmp_x - tmp_p)\n",
    "                tmp_beam_ans.append(tmpppp_ans)\n",
    "        # tmp_beam_ans中取出前k个s\n",
    "        tmp_beam_ans.sort(key = lambda x : alpha * x[0][-1] + x[-1][1] + x[-1][3])\n",
    "        beam_ans = tmp_beam_ans[:4]\n",
    "    return beam_ans[0]\n",
    "\n",
    "def find_position(p, w, h, W):\n",
    "    '''\n",
    "    从已经存放好的箱子中找出可存放的位置\n",
    "    p: 之前已经存好的位置信息.list of [x,y,w,h]\n",
    "    w: 该箱子的width\n",
    "    h: 该箱子的height\n",
    "    输出区间的集合[[a,b],[c,d]]\n",
    "    '''\n",
    "    # 先找出在y[i],y[i] + h 中有重合的箱子\n",
    "    for i in range(len(p)):\n",
    "        y_start = p[i][1] + p[i][3]\n",
    "        y_end = y_start + h\n",
    "        # 在区间[y_start, y_end]中找有重合的箱子\n",
    "        tmp_intervals = []\n",
    "        for j in range(len(p)):\n",
    "            if p[j][1] >= y_end or p[j][1] + p[j][3] <= y_start:\n",
    "                continue\n",
    "            else:\n",
    "                # 有交集\n",
    "                tmp_intervals.append([p[j][0],p[j][0] + p[j][2]])\n",
    "        # 合并区间tmp_intervals\n",
    "        if tmp_intervals == []:\n",
    "            return ([[0, W - w]],y_start)\n",
    "        final_intervals = merge(tmp_intervals)\n",
    "        # [[],[]]\n",
    "        intervals = []\n",
    "        tmp = 0\n",
    "        for i in final_intervals:\n",
    "            if i[0] - tmp >= w:\n",
    "                intervals.append([tmp, i[0] - w])\n",
    "            tmp = i[1]\n",
    "        if W - tmp >= w:\n",
    "            intervals.append([tmp, W - w])\n",
    "        if len(intervals) > 0:\n",
    "            return (intervals, y_start)\n",
    "\n",
    "\n",
    "def merge(intervals):\n",
    "    \"\"\"\n",
    "    合并区间\n",
    "    \"\"\"\n",
    "    res = []\n",
    "    intervals.sort(key = lambda x : x[0])\n",
    "    tmp = intervals[0]\n",
    "    for i in intervals:\n",
    "        if i[0] > tmp[1]:\n",
    "            res.append(tmp)\n",
    "            tmp = i\n",
    "        else:\n",
    "            tmp[1] = max(tmp[1], i[1])\n",
    "    res.append(tmp)\n",
    "    return res   \n",
    "\n",
    "def ffd_withswap(w,h,W,p,alpha):\n",
    "    # 先做一遍逆序\n",
    "    start_time = time.time()\n",
    "    ans = math.inf\n",
    "    best_result = []\n",
    "    best_order_w = copy.deepcopy(w)\n",
    "    best_order_h = copy.deepcopy(h)\n",
    "    best_order_p = copy.deepcopy(p)\n",
    "    n = len(w)\n",
    "    for i in range(n):\n",
    "        for j in range(n):\n",
    "            h[i], h[j] = h[j], h[i]\n",
    "            w[i], w[j] = w[j], w[i]\n",
    "            p[i], p[j] = p[j], p[i]\n",
    "            tmp_result = ffd(w,h,W,p)\n",
    "            tmp_ans = tmp_result[-1][1] + tmp_result[-1][3]\n",
    "            for k in tmp_result:\n",
    "                tmp_ans += alpha * abs(k[0] - k[4])\n",
    "            ans = min(tmp_ans, ans)\n",
    "            if ans == tmp_ans:\n",
    "                best_result = copy.deepcopy(tmp_result)\n",
    "                best_order_w = copy.deepcopy(w)\n",
    "                best_order_h = copy.deepcopy(h)\n",
    "                best_order_p = copy.deepcopy(p)\n",
    "        w = copy.deepcopy(best_order_w)\n",
    "        h = copy.deepcopy(best_order_h)\n",
    "        p = copy.deepcopy(best_order_p)\n",
    "    # print(ans)\n",
    "    #if alpha != 0:\n",
    "    #    print((ans - (best_result[-1][1] + best_result[-1][3]))/alpha)\n",
    "    #if alpha == 0:\n",
    "    #    punish = 0\n",
    "    #    for i in best_result:\n",
    "    #        punish += abs(i[0] - i[4])\n",
    "    #    print(punish)\n",
    "    end_time = time.time()\n",
    "    return (best_result, ans)\n",
    "\n",
    "def ffdtwo_withswap(w,h,W,p,alpha):\n",
    "    # 先做一遍逆序\n",
    "    start_time = time.time()\n",
    "    ans = math.inf\n",
    "    best_result = []\n",
    "    best_order_w = copy.deepcopy(w)\n",
    "    best_order_h = copy.deepcopy(h)\n",
    "    best_order_p = copy.deepcopy(p)\n",
    "    n = len(w)\n",
    "    for i in range(n):\n",
    "        for j in range(n):\n",
    "            h[i], h[j] = h[j], h[i]\n",
    "            w[i], w[j] = w[j], w[i]\n",
    "            p[i], p[j] = p[j], p[i]\n",
    "            tmp_result = ffdtwo(w,h,W,p)\n",
    "            tmp_ans = tmp_result[-1][1] + tmp_result[-1][3]\n",
    "            for k in tmp_result:\n",
    "                tmp_ans += alpha * abs(k[0] - k[4])\n",
    "            ans = min(tmp_ans, ans)\n",
    "            if ans == tmp_ans:\n",
    "                best_result = copy.deepcopy(tmp_result)\n",
    "                best_order_w = copy.deepcopy(w)\n",
    "                best_order_h = copy.deepcopy(h)\n",
    "                best_order_p = copy.deepcopy(p)\n",
    "        w = copy.deepcopy(best_order_w)\n",
    "        h = copy.deepcopy(best_order_h)\n",
    "        p = copy.deepcopy(best_order_p)\n",
    "    # print(ans)\n",
    "    # if alpha != 0:\n",
    "    #     print((ans - (best_result[-1][1] + best_result[-1][3]))/alpha)\n",
    "    # if alpha == 0:\n",
    "    #     punish = 0\n",
    "    #     for i in best_result:\n",
    "    #         punish += abs(i[0] - i[4])\n",
    "    #     print(punish)\n",
    "    end_time = time.time()\n",
    "    return (best_result, ans)  \n",
    "\n",
    "def ffdthree_withswap(w,h,W,p,alpha):\n",
    "    # 先做一遍逆序\n",
    "    ans = math.inf\n",
    "    best_result = []\n",
    "    best_order_w = copy.deepcopy(w)\n",
    "    best_order_h = copy.deepcopy(h)\n",
    "    best_order_p = copy.deepcopy(p)\n",
    "    n = len(w)\n",
    "    for i in range(n):\n",
    "        for j in range(n):\n",
    "            h[i], h[j] = h[j], h[i]\n",
    "            w[i], w[j] = w[j], w[i]\n",
    "            p[i], p[j] = p[j], p[i]\n",
    "            tmp_result = ffdthree(w,h,W,p)\n",
    "            tmp_ans = tmp_result[-1][1] + tmp_result[-1][3]\n",
    "            for k in tmp_result:\n",
    "                tmp_ans += alpha * abs(k[0] - k[4])\n",
    "            ans = min(tmp_ans, ans)\n",
    "            if ans == tmp_ans:\n",
    "                best_result = copy.deepcopy(tmp_result)\n",
    "                best_order_w = copy.deepcopy(w)\n",
    "                best_order_h = copy.deepcopy(h)\n",
    "                best_order_p = copy.deepcopy(p)\n",
    "        w = copy.deepcopy(best_order_w)\n",
    "        h = copy.deepcopy(best_order_h)\n",
    "        p = copy.deepcopy(best_order_p)\n",
    "    # print(ans)\n",
    "    # if alpha != 0:\n",
    "    #     print((ans - (best_result[-1][1] + best_result[-1][3]))/alpha)\n",
    "    # if alpha == 0:\n",
    "    #    punish = 0\n",
    "    #     for i in best_result:\n",
    "    #         punish += abs(i[0] - i[4])\n",
    "    #     print(punish)\n",
    "    return ans\n",
    "\n",
    "def ffd_beamsearch_withswap(w,h,W,p,alpha):\n",
    "    start_time = time.time()\n",
    "    # 先做一遍逆序\n",
    "    ans = math.inf\n",
    "    best_result = []\n",
    "    best_order_w = copy.deepcopy(w)\n",
    "    best_order_h = copy.deepcopy(h)\n",
    "    best_order_p = copy.deepcopy(p)\n",
    "    n = len(w)\n",
    "    for i in range(n):\n",
    "        for j in range(n):\n",
    "            h[i], h[j] = h[j], h[i]\n",
    "            w[i], w[j] = w[j], w[i]\n",
    "            p[i], p[j] = p[j], p[i]\n",
    "            tmp_result = ffd_beamsearch(w,h,W,p,alpha)\n",
    "            tmp_ans = tmp_result[-1][1] + tmp_result[-1][3]\n",
    "            tmp_ans += alpha * tmp_result[0][5]\n",
    "            ans = min(tmp_ans, ans)\n",
    "            if ans == tmp_ans:\n",
    "                best_result = copy.deepcopy(tmp_result)\n",
    "                best_order_w = copy.deepcopy(w)\n",
    "                best_order_h = copy.deepcopy(h)\n",
    "                best_order_p = copy.deepcopy(p)\n",
    "        w = copy.deepcopy(best_order_w)\n",
    "        h = copy.deepcopy(best_order_h)\n",
    "        p = copy.deepcopy(best_order_p)\n",
    "    # print(ans)\n",
    "    # if alpha != 0:\n",
    "    #     print((ans - (best_result[-1][1] + best_result[-1][3]))/alpha)\n",
    "    # elif alpha == 0:\n",
    "    #     print(best_result[0][5])\n",
    "    end_time = time.time()\n",
    "    return (best_result, ans)"
   ]
  },
  {
   "cell_type": "code",
   "execution_count": 107,
   "id": "90976dc2",
   "metadata": {},
   "outputs": [
    {
     "data": {
      "text/plain": [
       "[14, 12, 12, 12, 7, 7, 6, 6, 5, 5]"
      ]
     },
     "execution_count": 107,
     "metadata": {},
     "output_type": "execute_result"
    }
   ],
   "source": [
    "w = {}     # 箱子宽\n",
    "h = {}     # 箱子高\n",
    "p = {}     # 箱子偏好位置\n",
    "w[1], h[1] = 2, 5\n",
    "w[2], h[2] = 3, 5\n",
    "w[3], h[3] = 3, 6\n",
    "w[4], h[4] = 3, 6\n",
    "w[5], h[5] = 3, 7\n",
    "w[6], h[6] = 5, 7\n",
    "w[7], h[7] = 5, 12\n",
    "w[8], h[8] = 7, 12\n",
    "w[9], h[9] = 8, 12\n",
    "w[10], h[10] = 9, 14\n",
    "p = {1: 10, 2: 5, 3: 8, 4: 2, 5: 10, 6: 8, 7: 6, 8: 2, 9: 8, 10: 10}\n",
    "ww = []\n",
    "hh = []\n",
    "pp = []\n",
    "for i in w:\n",
    "    ww.append(w[i])\n",
    "    hh.append(h[i])\n",
    "    pp.append(p[i])\n",
    "ww = ww[::-1]\n",
    "hh = hh[::-1]\n",
    "pp = pp[::-1]\n",
    "hh"
   ]
  },
  {
   "cell_type": "code",
   "execution_count": 62,
   "id": "200c4edd",
   "metadata": {},
   "outputs": [],
   "source": [
    "res1,ans1 = ffd_withswap(ww,hh,20,pp,0.3)"
   ]
  },
  {
   "cell_type": "code",
   "execution_count": 75,
   "id": "a250db5a",
   "metadata": {},
   "outputs": [
    {
     "data": {
      "text/plain": [
       "[[0, 0, 0, 0, 0],\n",
       " [10, 0, 2, 5, 10, 0],\n",
       " [2, 0, 7, 12, 2, 1],\n",
       " [12, 0, 8, 12, 8, 2],\n",
       " [9, 5, 3, 7, 10, 6],\n",
       " [0, 12, 5, 7, 8, 5],\n",
       " [5, 12, 5, 12, 6, 4],\n",
       " [2, 19, 3, 6, 2, 7],\n",
       " [10, 12, 9, 14, 10, 3],\n",
       " [7, 24, 3, 6, 8, 8],\n",
       " [4, 25, 3, 5, 5, 9]]"
      ]
     },
     "execution_count": 75,
     "metadata": {},
     "output_type": "execute_result"
    }
   ],
   "source": [
    "res1"
   ]
  },
  {
   "cell_type": "code",
   "execution_count": 76,
   "id": "4fe10f5c",
   "metadata": {},
   "outputs": [
    {
     "data": {
      "text/plain": [
       "34.79999999999999"
      ]
     },
     "execution_count": 76,
     "metadata": {},
     "output_type": "execute_result"
    }
   ],
   "source": [
    "ans1 # 30 4.8"
   ]
  },
  {
   "cell_type": "code",
   "execution_count": 97,
   "id": "8f06c19e",
   "metadata": {},
   "outputs": [
    {
     "data": {
      "image/png": "[encoded data removed]",
      "text/plain": [
       "<Figure size 432x288 with 1 Axes>"
      ]
     },
     "metadata": {
      "needs_background": "light"
     },
     "output_type": "display_data"
    },
    {
     "data": {
      "text/plain": [
       "<Figure size 432x288 with 0 Axes>"
      ]
     },
     "metadata": {},
     "output_type": "display_data"
    }
   ],
   "source": [
    "x1 = []\n",
    "y1 = []\n",
    "w1 = []\n",
    "h1 = []\n",
    "p1 = []\n",
    "number = []\n",
    "for i in range(1,len(res1)):\n",
    "    x1.append(res1[i][0])\n",
    "    y1.append(res1[i][1])\n",
    "    w1.append(res1[i][2])\n",
    "    h1.append(res1[i][3])\n",
    "    p1.append(res1[i][4])\n",
    "    number.append(res1[i][5])\n",
    "sketch_map(20, w1, h1, x1, y1, p1, p1, '1')"
   ]
  },
  {
   "cell_type": "code",
   "execution_count": 84,
   "id": "184c3282",
   "metadata": {},
   "outputs": [],
   "source": [
    "res2, ans2 = ffdtwo_withswap(ww,hh,20,pp,0.3)"
   ]
  },
  {
   "cell_type": "code",
   "execution_count": 85,
   "id": "e75c9839",
   "metadata": {},
   "outputs": [
    {
     "data": {
      "text/plain": [
       "[[0, 0, 0, 0, 0],\n",
       " [18, 0, 2, 5, 10, 0],\n",
       " [7, 0, 3, 6, 8, 2],\n",
       " [7, 6, 3, 5, 5, 8],\n",
       " [0, 0, 7, 12, 2, 1],\n",
       " [10, 0, 8, 12, 8, 3],\n",
       " [1, 12, 5, 7, 8, 6],\n",
       " [6, 12, 5, 12, 6, 5],\n",
       " [0, 19, 3, 6, 2, 9],\n",
       " [11, 12, 9, 14, 10, 4],\n",
       " [3, 19, 3, 7, 10, 7]]"
      ]
     },
     "execution_count": 85,
     "metadata": {},
     "output_type": "execute_result"
    }
   ],
   "source": [
    "res2 # 26 32 9.6"
   ]
  },
  {
   "cell_type": "code",
   "execution_count": 86,
   "id": "e4da751f",
   "metadata": {},
   "outputs": [
    {
     "data": {
      "text/plain": [
       "35.6"
      ]
     },
     "execution_count": 86,
     "metadata": {},
     "output_type": "execute_result"
    }
   ],
   "source": [
    "ans2"
   ]
  },
  {
   "cell_type": "code",
   "execution_count": 98,
   "id": "65cd34a8",
   "metadata": {},
   "outputs": [
    {
     "data": {
      "image/png": "[encoded data removed]",
      "text/plain": [
       "<Figure size 432x288 with 1 Axes>"
      ]
     },
     "metadata": {
      "needs_background": "light"
     },
     "output_type": "display_data"
    },
    {
     "data": {
      "text/plain": [
       "<Figure size 432x288 with 0 Axes>"
      ]
     },
     "metadata": {},
     "output_type": "display_data"
    }
   ],
   "source": [
    "x2 = []\n",
    "y2 = []\n",
    "w2 = []\n",
    "h2 = []\n",
    "p2 = []\n",
    "number = []\n",
    "for i in range(1,len(res1)):\n",
    "    x2.append(res2[i][0])\n",
    "    y2.append(res2[i][1])\n",
    "    w2.append(res2[i][2])\n",
    "    h2.append(res2[i][3])\n",
    "    p2.append(res2[i][4])\n",
    "    number.append(res2[i][5])\n",
    "sketch_map(20, w2, h2, x2, y2, p2, p2, '1')"
   ]
  },
  {
   "cell_type": "code",
   "execution_count": 112,
   "id": "14cb6322",
   "metadata": {},
   "outputs": [],
   "source": [
    "res3, ans3 = ffd_beamsearch_withswap(ww,hh,20,pp,0.3)"
   ]
  },
  {
   "cell_type": "code",
   "execution_count": 113,
   "id": "744548c9",
   "metadata": {},
   "outputs": [
    {
     "data": {
      "text/plain": [
       "[[0, 0, 0, 0, 0, 13],\n",
       " [10, 0, 2, 5, 10],\n",
       " [12, 0, 8, 12, 8],\n",
       " [2, 0, 7, 12, 2],\n",
       " [9, 5, 3, 7, 10],\n",
       " [1, 12, 5, 7, 8],\n",
       " [6, 12, 5, 12, 6],\n",
       " [2, 19, 3, 6, 2],\n",
       " [11, 12, 9, 14, 10],\n",
       " [5, 24, 3, 5, 5],\n",
       " [8, 24, 3, 6, 8]]"
      ]
     },
     "execution_count": 113,
     "metadata": {},
     "output_type": "execute_result"
    }
   ],
   "source": [
    "res3"
   ]
  },
  {
   "cell_type": "code",
   "execution_count": 114,
   "id": "82a45702",
   "metadata": {},
   "outputs": [
    {
     "data": {
      "text/plain": [
       "33.9"
      ]
     },
     "execution_count": 114,
     "metadata": {},
     "output_type": "execute_result"
    }
   ],
   "source": [
    "ans3 # 26 25 7.5"
   ]
  },
  {
   "cell_type": "code",
   "execution_count": 100,
   "id": "968563ec",
   "metadata": {},
   "outputs": [
    {
     "data": {
      "image/png": "[encoded data removed]",
      "text/plain": [
       "<Figure size 432x288 with 1 Axes>"
      ]
     },
     "metadata": {
      "needs_background": "light"
     },
     "output_type": "display_data"
    },
    {
     "data": {
      "text/plain": [
       "<Figure size 432x288 with 0 Axes>"
      ]
     },
     "metadata": {},
     "output_type": "display_data"
    }
   ],
   "source": [
    "x3 = []\n",
    "y3 = []\n",
    "w3 = []\n",
    "h3 = []\n",
    "p3 = []\n",
    "number = []\n",
    "for i in range(1,len(res1)):\n",
    "    x3.append(res3[i][0])\n",
    "    y3.append(res3[i][1])\n",
    "    w3.append(res3[i][2])\n",
    "    h3.append(res3[i][3])\n",
    "    p3.append(res3[i][4])\n",
    "    # number.append(res3[i][5])\n",
    "sketch_map(20, w3, h3, x3, y3, p3, p3, '1')"
   ]
  },
  {
   "cell_type": "code",
   "execution_count": null,
   "id": "b961682c",
   "metadata": {},
   "outputs": [],
   "source": [
    "------------------------------"
   ]
  },
  {
   "cell_type": "code",
   "execution_count": 105,
   "id": "8a5054c4",
   "metadata": {},
   "outputs": [
    {
     "data": {
      "image/png": "[encoded data removed]",
      "text/plain": [
       "<Figure size 1260x960 with 3 Axes>"
      ]
     },
     "metadata": {
      "needs_background": "light"
     },
     "output_type": "display_data"
    }
   ],
   "source": [
    "W = 20\n",
    "w = ww\n",
    "h = hh\n",
    "p = pp\n",
    "y_label_range = 55\n",
    "x_label_range = W\n",
    "\n",
    "# 开始做图\n",
    "fig = plt.figure(figsize = [12.6, 9.6], dpi = 100)\n",
    "ax = plt.subplot(221)\n",
    "\n",
    "#建立矩形\n",
    "for i in range(len(w)):\n",
    "    if x1[i] == p1[i]:\n",
    "        c = 'red'\n",
    "        l = 2\n",
    "    else:\n",
    "        c = 'black'\n",
    "        l = 1\n",
    "    rect = plt.Rectangle(\n",
    "            (x1[i], y1[i]),  # (x,y)矩形左下角\n",
    "            w1[i],          # width长\n",
    "            h1[i],          # height宽\n",
    "            fill=False,\n",
    "                          edgecolor=c, linewidth=l, \n",
    "            alpha=0.5)\n",
    "    ax.add_patch(rect)\n",
    "    ax.text((2 * x1[i] + w1[i])/2, (2 * y1[i] + h1[i])/2 - 1,\n",
    "            str(abs(p1[i] - x1[i])),\n",
    "            bbox=dict(facecolor='blue', alpha=0),\n",
    "            fontsize=14, color='black')\n",
    "# 建立图\n",
    "plt.xlabel(\"W\")\n",
    "plt.ylabel(\"H\")\n",
    "plt.xlim(0, x_label_range)\n",
    "plt.ylim(0, y_label_range)\n",
    "ax.set_title(\"algorithm2.3\")\n",
    "\n",
    "#fig = plt.figure(figsize = [12.6, 9.6], dpi = 100)\n",
    "ax = plt.subplot(222)\n",
    "\n",
    "#建立矩形\n",
    "for i in range(len(w)):\n",
    "    if x2[i] == p2[i]:\n",
    "        c = 'red'\n",
    "        l = 2\n",
    "    else:\n",
    "        c = 'black'\n",
    "        l = 1\n",
    "    rect = plt.Rectangle(\n",
    "            (x2[i], y2[i]),  # (x,y)矩形左下角\n",
    "            w2[i],          # width长\n",
    "            h2[i],          # height宽\n",
    "            fill=False,\n",
    "                          edgecolor=c, linewidth=l, \n",
    "            alpha=0.5)\n",
    "    ax.add_patch(rect)\n",
    "    ax.text((2 * x2[i] + w2[i])/2, (2 * y2[i] + h2[i])/2 - 1,\n",
    "            str(abs(p2[i] - x2[i])),\n",
    "            bbox=dict(facecolor='blue', alpha=0),\n",
    "            fontsize=14, color='black')\n",
    "# 建立图\n",
    "plt.xlabel(\"W\")\n",
    "plt.ylabel(\"H\")\n",
    "plt.xlim(0, x_label_range)\n",
    "plt.ylim(0, y_label_range)\n",
    "ax.set_title(\"algorithm2.4\")\n",
    "\n",
    "ax = plt.subplot(223)\n",
    "\n",
    "#建立矩形\n",
    "for i in range(len(w)):\n",
    "    if x3[i] == p3[i]:\n",
    "        c = 'red'\n",
    "        l = 2\n",
    "    else:\n",
    "        c = 'black'\n",
    "        l = 1\n",
    "    rect = plt.Rectangle(\n",
    "            (x3[i], y3[i]),  # (x,y)矩形左下角\n",
    "            w3[i],          # width长\n",
    "            h3[i],          # height宽\n",
    "            fill=False,\n",
    "                          edgecolor=c, linewidth=l, \n",
    "            alpha=0.5)\n",
    "    ax.add_patch(rect)\n",
    "    ax.text((2 * x3[i] + w3[i])/2, (2 * y3[i] + h3[i])/2 - 1,\n",
    "            str(abs(p3[i] - x3[i])),\n",
    "            bbox=dict(facecolor='blue', alpha=0),\n",
    "            fontsize=14, color='black')\n",
    "# 建立图\n",
    "plt.xlabel(\"W\")\n",
    "plt.ylabel(\"H\")\n",
    "plt.xlim(0, x_label_range)\n",
    "plt.ylim(0, y_label_range)\n",
    "ax.set_title(\"algorithm2.5\")\n",
    "\n",
    "plt.savefig('三种启发式算法对比'+ \".jpg\",dpi = 200)\n",
    "plt.show()"
   ]
  },
  {
   "cell_type": "code",
   "execution_count": 537,
   "id": "4bb46b1a",
   "metadata": {},
   "outputs": [],
   "source": [
    "res2 = ffdtwo(ww,hh,20,pp)"
   ]
  },
  {
   "cell_type": "code",
   "execution_count": 535,
   "id": "80d3b91f",
   "metadata": {},
   "outputs": [],
   "source": [
    "res1 = ffd(ww,hh,20,pp)"
   ]
  },
  {
   "cell_type": "code",
   "execution_count": 536,
   "id": "fdacc2d2",
   "metadata": {},
   "outputs": [
    {
     "data": {
      "text/plain": [
       "[[0, 0, 0, 0, 0],\n",
       " [0, 0, 2, 5, 10, 9],\n",
       " [2, 0, 8, 12, 8, 1],\n",
       " [10, 0, 9, 14, 10, 0],\n",
       " [14, 14, 5, 7, 8, 4],\n",
       " [2, 12, 7, 12, 2, 2],\n",
       " [9, 14, 5, 12, 6, 3],\n",
       " [17, 21, 3, 6, 2, 6],\n",
       " [14, 21, 3, 7, 10, 5],\n",
       " [3, 24, 3, 5, 5, 8],\n",
       " [6, 24, 3, 6, 8, 7]]"
      ]
     },
     "execution_count": 536,
     "metadata": {},
     "output_type": "execute_result"
    }
   ],
   "source": [
    "res1"
   ]
  },
  {
   "cell_type": "code",
   "execution_count": 538,
   "id": "ba5fd3f0",
   "metadata": {},
   "outputs": [
    {
     "data": {
      "text/plain": [
       "[[0, 0, 0, 0, 0],\n",
       " [0, 0, 3, 7, 10, 5],\n",
       " [3, 0, 8, 12, 8, 1],\n",
       " [0, 7, 3, 5, 5, 8],\n",
       " [11, 0, 9, 14, 10, 0],\n",
       " [17, 14, 3, 6, 2, 6],\n",
       " [12, 14, 5, 7, 8, 4],\n",
       " [0, 12, 7, 12, 2, 2],\n",
       " [7, 14, 5, 12, 6, 3],\n",
       " [17, 20, 3, 6, 8, 7],\n",
       " [12, 21, 2, 5, 10, 9]]"
      ]
     },
     "execution_count": 538,
     "metadata": {},
     "output_type": "execute_result"
    }
   ],
   "source": [
    "res2"
   ]
  },
  {
   "cell_type": "code",
   "execution_count": 542,
   "id": "ab49c3f7",
   "metadata": {},
   "outputs": [
    {
     "data": {
      "text/plain": [
       "[[0, 0, 0, 0, 0, 54],\n",
       " [0, 0, 3, 7, 10],\n",
       " [3, 0, 8, 12, 8],\n",
       " [0, 7, 3, 5, 5],\n",
       " [11, 0, 9, 14, 10],\n",
       " [17, 14, 3, 6, 2],\n",
       " [12, 14, 5, 7, 8],\n",
       " [0, 12, 7, 12, 2],\n",
       " [7, 14, 5, 12, 6],\n",
       " [17, 20, 3, 6, 8],\n",
       " [12, 21, 2, 5, 10]]"
      ]
     },
     "execution_count": 542,
     "metadata": {},
     "output_type": "execute_result"
    }
   ],
   "source": [
    "res3"
   ]
  },
  {
   "cell_type": "code",
   "execution_count": 541,
   "id": "9627bcef",
   "metadata": {},
   "outputs": [],
   "source": [
    "res3 = ffd_beamsearch(ww, hh, 20, pp ,0)"
   ]
  },
  {
   "cell_type": "code",
   "execution_count": 540,
   "id": "3458af60",
   "metadata": {},
   "outputs": [],
   "source": [
    "def ffd_beamsearch(w, h, W, p, alpha):\n",
    "    \"\"\"\n",
    "    带有beam_search版本的启发式算法，从三个里面选？\n",
    "    w:list of width\n",
    "    h:list of height\n",
    "    W:width\n",
    "    p:偏好位置\n",
    "    \"\"\"\n",
    "    n = len(w)    # 箱子总数\n",
    "    # beam_ans = []\n",
    "    ans = [[0, 0, 0, 0, 0, 0]]      # 保存[[xi,yi,wi,hi],...]    需要排好序,以yi排序升序 第一个最后一位保存一个打分函数\n",
    "    beam_ans = [ans]\n",
    "    for i in range(n):\n",
    "        # 开始安排第i个箱子\n",
    "        tmp_h = h[i]\n",
    "        tmp_w = w[i]\n",
    "        tmp_p = p[i]\n",
    "        tmp_beam_ans = []\n",
    "        for tmp_ans in beam_ans:\n",
    "            # 除了改变tmp_ans，还需要新加几个\n",
    "            tmp_intervals, tmp_y= find_position(tmp_ans,tmp_w,tmp_h,W)\n",
    "            # tmp_intervals为可用的区间，下面决定三种不同的策略\n",
    "            # 先考虑放在最近的点\n",
    "            tmp_xx = set()  #将tmp_x保存在这里面\n",
    "            tmp_x = tmp_intervals[0][0]\n",
    "            for j in tmp_intervals:\n",
    "                if p[i] >= j[0] and p[i] <= j[1]:\n",
    "                    tmp_x = p[i]\n",
    "                    break\n",
    "                elif abs(tmp_x - p[i]) > abs(j[0] - p[i]):\n",
    "                    tmp_x = j[0]\n",
    "                elif abs(tmp_x - p[i]) > abs(j[1] - p[i]):\n",
    "                    tmp_x = j[1]\n",
    "            tmp_xx.add(tmp_x)\n",
    "            # 第二种\n",
    "            tmp_x = tmp_intervals[0][0]\n",
    "            for j in tmp_intervals:\n",
    "            # if p[i] >= j[0] and p[i] <= j[1]:\n",
    "            #     tmp_x = p[i]\n",
    "            #     break\n",
    "                if abs(tmp_x - p[i]) > abs(j[0] - p[i]):\n",
    "                    tmp_x = j[0]\n",
    "                elif abs(tmp_x - p[i]) > abs(j[1] - p[i]):\n",
    "                    tmp_x = j[1]\n",
    "            tmp_xx.add(tmp_x)\n",
    "            # 第三种\n",
    "            tmp_x = tmp_intervals[0][0]\n",
    "            if abs(tmp_intervals[0][0] - p[i]) >= abs(tmp_intervals[-1][1] - p[i]):\n",
    "                tmp_x = tmp_intervals[-1][1]\n",
    "            tmp_xx.add(tmp_x)\n",
    "            # 此时tmp_xx中保存的是可能的x坐标\n",
    "            for tmp_x in tmp_xx:\n",
    "                # 对三种分别进行添加\n",
    "                ttmp_ans = [tmp_x, tmp_y, tmp_w, tmp_h, tmp_p]\n",
    "                tmpppp_ans = copy.deepcopy(tmp_ans)\n",
    "                for k in range(len(tmpppp_ans)):\n",
    "                    if tmpppp_ans[k][1] + tmpppp_ans[k][3] > tmp_y + tmp_h:\n",
    "                        tmpppp_ans = tmpppp_ans[:k] + [ttmp_ans] + tmpppp_ans[k:]\n",
    "                        break\n",
    "                if len(tmpppp_ans) != i + 2:\n",
    "                    tmpppp_ans.append(ttmp_ans)\n",
    "                tmpppp_ans[0][5] += abs(tmp_x - tmp_p)\n",
    "                tmp_beam_ans.append(tmpppp_ans)\n",
    "        # tmp_beam_ans中取出前k个s\n",
    "        tmp_beam_ans.sort(key = lambda x : alpha * x[0][-1] + x[-1][1] + x[-1][3])\n",
    "        beam_ans = tmp_beam_ans[:10]\n",
    "    return beam_ans[0]"
   ]
  },
  {
   "cell_type": "code",
   "execution_count": 474,
   "id": "b57e3c32",
   "metadata": {},
   "outputs": [
    {
     "ename": "IndexError",
     "evalue": "list index out of range",
     "output_type": "error",
     "traceback": [
      "\u001b[0;31m---------------------------------------------------------------------------\u001b[0m",
      "\u001b[0;31mIndexError\u001b[0m                                Traceback (most recent call last)",
      "\u001b[0;32m/var/folders/ql/z86w4c4j6gd0wbzf4c8mk1dr0000gn/T/ipykernel_54649/3984599232.py\u001b[0m in \u001b[0;36m<module>\u001b[0;34m\u001b[0m\n\u001b[1;32m     12\u001b[0m     \u001b[0mp\u001b[0m\u001b[0;34m.\u001b[0m\u001b[0mappend\u001b[0m\u001b[0;34m(\u001b[0m\u001b[0mres1\u001b[0m\u001b[0;34m[\u001b[0m\u001b[0mi\u001b[0m\u001b[0;34m]\u001b[0m\u001b[0;34m[\u001b[0m\u001b[0;36m4\u001b[0m\u001b[0;34m]\u001b[0m\u001b[0;34m)\u001b[0m\u001b[0;34m\u001b[0m\u001b[0;34m\u001b[0m\u001b[0m\n\u001b[1;32m     13\u001b[0m     \u001b[0;31m#number.append(res1[i][5])\u001b[0m\u001b[0;34m\u001b[0m\u001b[0;34m\u001b[0m\u001b[0;34m\u001b[0m\u001b[0m\n\u001b[0;32m---> 14\u001b[0;31m \u001b[0msketch_map\u001b[0m\u001b[0;34m(\u001b[0m\u001b[0;36m20\u001b[0m\u001b[0;34m,\u001b[0m \u001b[0mw\u001b[0m\u001b[0;34m,\u001b[0m \u001b[0mh\u001b[0m\u001b[0;34m,\u001b[0m \u001b[0mx\u001b[0m\u001b[0;34m,\u001b[0m \u001b[0my\u001b[0m\u001b[0;34m,\u001b[0m \u001b[0mp\u001b[0m\u001b[0;34m,\u001b[0m \u001b[0mnumber\u001b[0m\u001b[0;34m,\u001b[0m \u001b[0;34m'1'\u001b[0m\u001b[0;34m)\u001b[0m\u001b[0;34m\u001b[0m\u001b[0;34m\u001b[0m\u001b[0m\n\u001b[0m",
      "\u001b[0;32m/var/folders/ql/z86w4c4j6gd0wbzf4c8mk1dr0000gn/T/ipykernel_54649/285608331.py\u001b[0m in \u001b[0;36msketch_map\u001b[0;34m(W, w, h, x, y, p, number, name)\u001b[0m\n\u001b[1;32m     35\u001b[0m         \u001b[0max\u001b[0m\u001b[0;34m.\u001b[0m\u001b[0madd_patch\u001b[0m\u001b[0;34m(\u001b[0m\u001b[0mrect\u001b[0m\u001b[0;34m)\u001b[0m\u001b[0;34m\u001b[0m\u001b[0;34m\u001b[0m\u001b[0m\n\u001b[1;32m     36\u001b[0m         ax.text((2 * x[i] + w[i])/2 - 1, (2 * y[i] + h[i])/2 - 1,\n\u001b[0;32m---> 37\u001b[0;31m                 \u001b[0mstr\u001b[0m\u001b[0;34m(\u001b[0m\u001b[0mnumber\u001b[0m\u001b[0;34m[\u001b[0m\u001b[0mi\u001b[0m\u001b[0;34m]\u001b[0m\u001b[0;34m)\u001b[0m \u001b[0;34m+\u001b[0m\u001b[0;34m':'\u001b[0m \u001b[0;34m+\u001b[0m \u001b[0mstr\u001b[0m\u001b[0;34m(\u001b[0m\u001b[0mint\u001b[0m\u001b[0;34m(\u001b[0m\u001b[0mabs\u001b[0m\u001b[0;34m(\u001b[0m\u001b[0mx\u001b[0m\u001b[0;34m[\u001b[0m\u001b[0mi\u001b[0m\u001b[0;34m]\u001b[0m\u001b[0;34m-\u001b[0m\u001b[0mp\u001b[0m\u001b[0;34m[\u001b[0m\u001b[0mi\u001b[0m\u001b[0;34m]\u001b[0m\u001b[0;34m)\u001b[0m\u001b[0;34m)\u001b[0m\u001b[0;34m)\u001b[0m\u001b[0;34m,\u001b[0m\u001b[0;34m\u001b[0m\u001b[0;34m\u001b[0m\u001b[0m\n\u001b[0m\u001b[1;32m     38\u001b[0m                 \u001b[0mbbox\u001b[0m\u001b[0;34m=\u001b[0m\u001b[0mdict\u001b[0m\u001b[0;34m(\u001b[0m\u001b[0mfacecolor\u001b[0m\u001b[0;34m=\u001b[0m\u001b[0;34m'blue'\u001b[0m\u001b[0;34m,\u001b[0m \u001b[0malpha\u001b[0m\u001b[0;34m=\u001b[0m\u001b[0;36m0\u001b[0m\u001b[0;34m)\u001b[0m\u001b[0;34m,\u001b[0m\u001b[0;34m\u001b[0m\u001b[0;34m\u001b[0m\u001b[0m\n\u001b[1;32m     39\u001b[0m                 fontsize=14, color='black')\n",
      "\u001b[0;31mIndexError\u001b[0m: list index out of range"
     ]
    },
    {
     "data": {
      "image/png": "[encoded data removed]",
      "text/plain": [
       "<Figure size 432x288 with 1 Axes>"
      ]
     },
     "metadata": {
      "needs_background": "light"
     },
     "output_type": "display_data"
    }
   ],
   "source": [
    "x = []\n",
    "y = []\n",
    "w = []\n",
    "h = []\n",
    "p = []\n",
    "number = []\n",
    "for i in range(1,len(res1)):\n",
    "    x.append(res1[i][0])\n",
    "    y.append(res1[i][1])\n",
    "    w.append(res1[i][2])\n",
    "    h.append(res1[i][3])\n",
    "    p.append(res1[i][4])\n",
    "    #number.append(res1[i][5])\n",
    "sketch_map(20, w, h, x, y, p, number, '1')"
   ]
  },
  {
   "cell_type": "code",
   "execution_count": 532,
   "id": "dc8e6262",
   "metadata": {},
   "outputs": [
    {
     "data": {
      "text/plain": [
       "4"
      ]
     },
     "execution_count": 532,
     "metadata": {},
     "output_type": "execute_result"
    }
   ],
   "source": [
    "punish = 0\n",
    "for i in res1:\n",
    "    punish += abs(i[0] - i[4])\n",
    "punish"
   ]
  },
  {
   "cell_type": "code",
   "execution_count": 533,
   "id": "9a6dbd71",
   "metadata": {},
   "outputs": [
    {
     "data": {
      "text/plain": [
       "[[0, 0, 0, 0, 0],\n",
       " [2, 0, 7, 13, 2, 0],\n",
       " [11, 0, 7, 13, 11, 1],\n",
       " [17, 13, 3, 4, 17, 3],\n",
       " [5, 13, 3, 4, 9, 4],\n",
       " [8, 13, 5, 8, 8, 2]]"
      ]
     },
     "execution_count": 533,
     "metadata": {},
     "output_type": "execute_result"
    }
   ],
   "source": [
    "res1"
   ]
  },
  {
   "cell_type": "code",
   "execution_count": 461,
   "id": "54b6ca6a",
   "metadata": {},
   "outputs": [
    {
     "data": {
      "text/plain": [
       "[[0, 0, 0, 0, 0],\n",
       " [0, 0, 3, 7, 10, 5],\n",
       " [3, 0, 8, 12, 8, 1],\n",
       " [0, 7, 3, 5, 5, 8],\n",
       " [11, 0, 9, 14, 10, 0],\n",
       " [17, 14, 3, 6, 2, 6],\n",
       " [12, 14, 5, 7, 8, 4],\n",
       " [0, 12, 7, 12, 2, 2],\n",
       " [7, 14, 5, 12, 6, 3],\n",
       " [17, 20, 3, 6, 8, 7],\n",
       " [12, 21, 2, 5, 10, 9]]"
      ]
     },
     "execution_count": 461,
     "metadata": {},
     "output_type": "execute_result"
    }
   ],
   "source": [
    "res2"
   ]
  },
  {
   "cell_type": "code",
   "execution_count": 462,
   "id": "46f0f3ea",
   "metadata": {},
   "outputs": [
    {
     "data": {
      "image/png": "[encoded data removed]",
      "text/plain": [
       "<Figure size 432x288 with 1 Axes>"
      ]
     },
     "metadata": {
      "needs_background": "light"
     },
     "output_type": "display_data"
    },
    {
     "data": {
      "text/plain": [
       "<Figure size 432x288 with 0 Axes>"
      ]
     },
     "metadata": {},
     "output_type": "display_data"
    }
   ],
   "source": [
    "x = []\n",
    "y = []\n",
    "w = []\n",
    "h = []\n",
    "p = []\n",
    "number = []\n",
    "for i in range(1,len(res1)):\n",
    "    x.append(res2[i][0])\n",
    "    y.append(res2[i][1])\n",
    "    w.append(res2[i][2])\n",
    "    h.append(res2[i][3])\n",
    "    p.append(res2[i][4])\n",
    "    number.append(res2[i][5])\n",
    "sketch_map(20, w, h, x, y, p, number, '1')"
   ]
  },
  {
   "cell_type": "code",
   "execution_count": 531,
   "id": "375f0892",
   "metadata": {},
   "outputs": [
    {
     "data": {
      "text/plain": [
       "{0: 37.80499053001404,\n",
       " 0.1: 169.68221282958984,\n",
       " 0.2: 229.34224271774292,\n",
       " 0.3: 308.00049090385437,\n",
       " 0.4: 536.6642832756042,\n",
       " 0.5: 267.7123508453369,\n",
       " 1: 265.2602469921112,\n",
       " 1.5: 345.0060167312622,\n",
       " 2: 233.84611296653748,\n",
       " 3: 203.35484051704407}"
      ]
     },
     "execution_count": 531,
     "metadata": {},
     "output_type": "execute_result"
    }
   ],
   "source": [
    "{0: 4.109798259365179, 0.1: 6.5089709463184136, 0.2: 8.914534002456804, 0.3: 10.005533822346228, 0.4: 9.810904158690077, 0.5: 10.62096094090756, 1: 13.40295703261437, 1.5: 19.469759484084683, 2: 28.03198938256012, 3: 50.565464523646455}\n",
    "{0: 2.141003806376687, 0.1: 6.27729265421663, 0.2: 9.255595576797198, 0.3: 10.115781545644348, 0.4: 14.1639903296219, 0.5: 15.692325852974967, 1: 25.28940437077891, 1.5: 37.607416707333584, 2: 53.900956085944, 3: 94.4065520565697}\n",
    "{0: 1.4590566158294678, 0.1: 1.791015625, 0.2: 2.050504446029663, 0.3: 2.0651235580444336, 0.4: 1.8578910827636719, 0.5: 1.543222188949585, 1: 1.9156270027160645, 1.5: 2.068485736846924, 2: 2.054299831390381, 3: 1.8250200748443604}\n",
    "{0: 1.719897747039795, 0.1: 1.9075493812561035, 0.2: 1.9671356678009033, 0.3: 1.8225042819976807, 0.4: 1.5801920890808105, 0.5: 1.6325852870941162, 1: 1.9047398567199707, 1.5: 1.955998420715332, 2: 1.859654188156128, 3: 1.6349594593048096}\n",
    "{0: 37.80499053001404, 0.1: 169.68221282958984, 0.2: 229.34224271774292, 0.3: 308.00049090385437, 0.4: 536.6642832756042, 0.5: 267.7123508453369, 1: 265.2602469921112, 1.5: 345.0060167312622, 2: 233.84611296653748, 3: 203.35484051704407}"
   ]
  },
  {
   "cell_type": "code",
   "execution_count": 413,
   "id": "1fd6330d",
   "metadata": {},
   "outputs": [
    {
     "data": {
      "text/plain": [
       "[0, 2, 10, 14, 2, 9, 17, 14, 3, 6]"
      ]
     },
     "execution_count": 413,
     "metadata": {},
     "output_type": "execute_result"
    }
   ],
   "source": [
    "x"
   ]
  },
  {
   "cell_type": "code",
   "execution_count": 460,
   "id": "b7cf5ca0",
   "metadata": {},
   "outputs": [],
   "source": [
    "res2 = ffdtwo(ww,hh,20,pp)"
   ]
  },
  {
   "cell_type": "code",
   "execution_count": 408,
   "id": "dbc4366b",
   "metadata": {},
   "outputs": [
    {
     "data": {
      "text/plain": [
       "48"
      ]
     },
     "execution_count": 408,
     "metadata": {},
     "output_type": "execute_result"
    }
   ],
   "source": [
    "punish = 0\n",
    "for i in res1:\n",
    "    punish += abs(i[0] - i[4])\n",
    "punish"
   ]
  },
  {
   "cell_type": "code",
   "execution_count": 245,
   "id": "49686899",
   "metadata": {},
   "outputs": [
    {
     "data": {
      "text/plain": [
       "[[0, 0, 0, 0, 0],\n",
       " [13, 0, 2, 5, 10],\n",
       " [2, 0, 3, 6, 2],\n",
       " [10, 0, 3, 7, 10],\n",
       " [15, 0, 5, 7, 8],\n",
       " [2, 6, 3, 5, 5],\n",
       " [5, 0, 5, 12, 6],\n",
       " [10, 7, 8, 12, 8],\n",
       " [2, 12, 7, 12, 2],\n",
       " [7, 24, 3, 6, 8],\n",
       " [10, 19, 9, 14, 10]]"
      ]
     },
     "execution_count": 245,
     "metadata": {},
     "output_type": "execute_result"
    }
   ],
   "source": [
    "res1"
   ]
  },
  {
   "cell_type": "code",
   "execution_count": 469,
   "id": "972565a6",
   "metadata": {},
   "outputs": [],
   "source": [
    "res1 = ha.ffd(w,h,20,p)"
   ]
  },
  {
   "cell_type": "code",
   "execution_count": 470,
   "id": "08d4c2ac",
   "metadata": {},
   "outputs": [
    {
     "data": {
      "text/plain": [
       "[[0, 0, 0, 0, 0],\n",
       " [2, 0, 7, 13, 2],\n",
       " [11, 0, 7, 13, 11],\n",
       " [17, 13, 3, 4, 17],\n",
       " [8, 13, 5, 8, 8]]"
      ]
     },
     "execution_count": 470,
     "metadata": {},
     "output_type": "execute_result"
    }
   ],
   "source": [
    "res1"
   ]
  },
  {
   "cell_type": "code",
   "execution_count": 471,
   "id": "ca30398e",
   "metadata": {},
   "outputs": [],
   "source": [
    "punish = 0\n",
    "for i in res1:\n",
    "    punish += abs(i[0] - i[4])"
   ]
  },
  {
   "cell_type": "code",
   "execution_count": 472,
   "id": "3554a36b",
   "metadata": {},
   "outputs": [
    {
     "data": {
      "text/plain": [
       "0"
      ]
     },
     "execution_count": 472,
     "metadata": {},
     "output_type": "execute_result"
    }
   ],
   "source": [
    "punish"
   ]
  },
  {
   "cell_type": "code",
   "execution_count": 163,
   "id": "763774ae",
   "metadata": {},
   "outputs": [],
   "source": [
    "res2 = ha.ffdtwo(ww,hh,20,pp)"
   ]
  },
  {
   "cell_type": "code",
   "execution_count": 164,
   "id": "bf7f889a",
   "metadata": {},
   "outputs": [
    {
     "data": {
      "text/plain": [
       "[[0, 0, 0, 0, 0],\n",
       " [0, 0, 3, 7, 10],\n",
       " [3, 0, 8, 12, 8],\n",
       " [0, 7, 3, 5, 5],\n",
       " [11, 0, 9, 14, 10],\n",
       " [17, 14, 3, 6, 2],\n",
       " [12, 14, 5, 7, 8],\n",
       " [0, 12, 7, 12, 2],\n",
       " [7, 14, 5, 12, 6],\n",
       " [17, 20, 3, 6, 8],\n",
       " [12, 21, 2, 5, 10]]"
      ]
     },
     "execution_count": 164,
     "metadata": {},
     "output_type": "execute_result"
    }
   ],
   "source": [
    "res2"
   ]
  },
  {
   "cell_type": "code",
   "execution_count": 409,
   "id": "3eb8f862",
   "metadata": {},
   "outputs": [],
   "source": [
    "punish = 0\n",
    "for i in res2:\n",
    "    punish += abs(i[0] - i[4])"
   ]
  },
  {
   "cell_type": "code",
   "execution_count": 410,
   "id": "203dd6de",
   "metadata": {},
   "outputs": [
    {
     "data": {
      "text/plain": [
       "54"
      ]
     },
     "execution_count": 410,
     "metadata": {},
     "output_type": "execute_result"
    }
   ],
   "source": [
    "punish # 在小\\alpha中表现挺好"
   ]
  },
  {
   "cell_type": "code",
   "execution_count": 170,
   "id": "e9cf40c5",
   "metadata": {},
   "outputs": [
    {
     "data": {
      "text/plain": [
       "[[0, 0, 0, 0, 0, 47],\n",
       " [0, 0, 2, 5, 10],\n",
       " [2, 0, 8, 12, 8],\n",
       " [10, 0, 9, 14, 10],\n",
       " [0, 12, 3, 7, 10],\n",
       " [15, 14, 5, 7, 8],\n",
       " [3, 12, 7, 12, 2],\n",
       " [0, 19, 3, 6, 2],\n",
       " [10, 14, 5, 12, 6],\n",
       " [15, 21, 3, 6, 8],\n",
       " [5, 24, 3, 5, 5]]"
      ]
     },
     "execution_count": 170,
     "metadata": {},
     "output_type": "execute_result"
    }
   ],
   "source": [
    "ha.ffd_beamsearch(ww,hh,20,pp,2)"
   ]
  },
  {
   "cell_type": "code",
   "execution_count": 111,
   "id": "83f71694",
   "metadata": {},
   "outputs": [
    {
     "data": {
      "text/plain": [
       "[[0, 0, 0, 0, 0],\n",
       " [10, 0, 2, 5, 10],\n",
       " [5, 0, 3, 5, 5],\n",
       " [12, 0, 3, 6, 8],\n",
       " [2, 0, 3, 6, 2],\n",
       " [15, 0, 3, 7, 10],\n",
       " [7, 5, 5, 7, 8],\n",
       " [2, 6, 5, 12, 6],\n",
       " [12, 7, 7, 12, 2],\n",
       " [4, 18, 8, 12, 8],\n",
       " [10, 30, 9, 14, 10]]"
      ]
     },
     "execution_count": 111,
     "metadata": {},
     "output_type": "execute_result"
    }
   ],
   "source": [
    "res"
   ]
  },
  {
   "cell_type": "code",
   "execution_count": 13,
   "id": "3e555d48",
   "metadata": {},
   "outputs": [
    {
     "data": {
      "text/plain": [
       "44"
      ]
     },
     "execution_count": 13,
     "metadata": {},
     "output_type": "execute_result"
    }
   ],
   "source": [
    "punish"
   ]
  },
  {
   "cell_type": "code",
   "execution_count": 7,
   "id": "6acc33ec",
   "metadata": {},
   "outputs": [
    {
     "data": {
      "text/plain": [
       "[[0, 0, 0, 0, 0],\n",
       " [18, 0, 2, 5, 10],\n",
       " [0, 0, 3, 5, 5],\n",
       " [3, 0, 3, 6, 8],\n",
       " [6, 0, 3, 6, 2],\n",
       " [9, 0, 3, 7, 10],\n",
       " [12, 0, 5, 7, 8],\n",
       " [4, 6, 5, 12, 6],\n",
       " [9, 7, 7, 12, 2],\n",
       " [1, 18, 8, 12, 8],\n",
       " [11, 19, 9, 14, 10]]"
      ]
     },
     "execution_count": 7,
     "metadata": {},
     "output_type": "execute_result"
    }
   ],
   "source": [
    "ha.ffdthree(ww,hh,20,pp)"
   ]
  },
  {
   "cell_type": "code",
   "execution_count": 37,
   "id": "87b28a7d",
   "metadata": {},
   "outputs": [],
   "source": [
    "ree = ha.ffd_beamsearch(ww,hh,20,pp,20000)"
   ]
  },
  {
   "cell_type": "code",
   "execution_count": 38,
   "id": "a2fd2b7e",
   "metadata": {},
   "outputs": [
    {
     "data": {
      "text/plain": [
       "[[0, 0, 0, 0, 0, 28],\n",
       " [10, 0, 2, 5, 10],\n",
       " [5, 0, 3, 5, 5],\n",
       " [12, 0, 3, 6, 8],\n",
       " [2, 0, 3, 6, 2],\n",
       " [15, 0, 3, 7, 10],\n",
       " [7, 5, 5, 7, 8],\n",
       " [2, 6, 5, 12, 6],\n",
       " [12, 7, 7, 12, 2],\n",
       " [4, 18, 8, 12, 8],\n",
       " [10, 30, 9, 14, 10]]"
      ]
     },
     "execution_count": 38,
     "metadata": {},
     "output_type": "execute_result"
    }
   ],
   "source": [
    "ree"
   ]
  },
  {
   "cell_type": "code",
   "execution_count": 33,
   "id": "ff6839c2",
   "metadata": {},
   "outputs": [],
   "source": [
    "punish = 0\n",
    "for i in ree:\n",
    "    punish += abs(i[0] - i[4])"
   ]
  },
  {
   "cell_type": "code",
   "execution_count": 34,
   "id": "005994ba",
   "metadata": {},
   "outputs": [
    {
     "data": {
      "text/plain": [
       "28"
      ]
     },
     "execution_count": 34,
     "metadata": {},
     "output_type": "execute_result"
    }
   ],
   "source": [
    "punish"
   ]
  },
  {
   "cell_type": "code",
   "execution_count": 96,
   "id": "e01696f2",
   "metadata": {
    "scrolled": true
   },
   "outputs": [
    {
     "data": {
      "image/png": "[encoded data removed]",
      "text/plain": [
       "<Figure size 432x288 with 1 Axes>"
      ]
     },
     "metadata": {
      "needs_background": "light"
     },
     "output_type": "display_data"
    }
   ],
   "source": [
    "x = [2, 11, 8, 17]\n",
    "y = [0, 0, 13, 13]\n",
    "w = [7, 7, 5, 3]\n",
    "h = [13, 13, 8, 4]\n",
    "p = [2, 11, 8, 17]\n",
    "y_label_range = 1.6 * max([i + j for i, j in zip(y, h)])\n",
    "x_label_range = 20\n",
    "\n",
    "# 开始做图\n",
    "fig = plt.figure()\n",
    "ax = fig.add_subplot(111)\n",
    "\n",
    "#建立矩形\n",
    "for i in range(len(x)):\n",
    "    \n",
    "    c = 'black'\n",
    "    l = 1\n",
    "    rect = plt.Rectangle(\n",
    "            (x[i], y[i]),  # (x,y)矩形左下角\n",
    "            w[i],          # width长\n",
    "            h[i],          # height宽\n",
    "            fill=False,\n",
    "                          edgecolor=c, linewidth=l, \n",
    "            alpha=0.5)\n",
    "    ax.add_patch(rect)\n",
    "    ax.text((2 * x[i] + w[i])/2 - 1, (2 * y[i] + h[i])/2 - 1,\n",
    "            str(i) ,\n",
    "            bbox=dict(facecolor='blue', alpha=0),\n",
    "            fontsize=14, color='black')\n",
    "# 建立图\n",
    "c = 'black'\n",
    "l = 1\n",
    "rect = plt.Rectangle(\n",
    "            (0, 13),  # (x,y)矩形左下角\n",
    "            3,          # width长\n",
    "            4,          # height宽\n",
    "            fill=False,\n",
    "                          edgecolor=c, linewidth=l, \n",
    "            alpha=0.5)\n",
    "ax.add_patch(rect)\n",
    "ax.text((2 * 0 + 3)/2 - 1, (2 * 13 + 4)/2 - 1,\n",
    "            \"pos1\",\n",
    "            bbox=dict(facecolor='blue', alpha=0),\n",
    "            fontsize=14, color='black')\n",
    "rect = plt.Rectangle(\n",
    "            (5, 13),  # (x,y)矩形左下角\n",
    "            3,          # width长\n",
    "            4,          # height宽\n",
    "            fill=False,\n",
    "                          edgecolor=c, linewidth=l, \n",
    "            alpha=0.5)\n",
    "ax.add_patch(rect)\n",
    "ax.text((2 * 5 + 3)/2 - 1, (2 * 13 + 4)/2 - 1,\n",
    "            \"pos2\",\n",
    "            bbox=dict(facecolor='blue', alpha=0),\n",
    "            fontsize=14, color='black')\n",
    "rect = plt.Rectangle(\n",
    "            (13, 13),  # (x,y)矩形左下角\n",
    "            3,          # width长\n",
    "            4,          # height宽\n",
    "            fill=False,\n",
    "                          edgecolor=c, linewidth=l, \n",
    "            alpha=0.5)\n",
    "ax.add_patch(rect)\n",
    "ax.text((2 * 13 + 3)/2 - 1, (2 * 13 + 4)/2 - 1,\n",
    "            \"pos3\",\n",
    "            bbox=dict(facecolor='blue', alpha=0),\n",
    "            fontsize=14, color='black')\n",
    "plt.xlim(0, x_label_range)\n",
    "plt.ylim(0, y_label_range)\n",
    "\n",
    "plt.savefig(\"启发式算法示意图\" + \".jpg\",dpi = 200)\n",
    "plt.show()"
   ]
  },
  {
   "cell_type": "code",
   "execution_count": 509,
   "id": "4666b179",
   "metadata": {},
   "outputs": [
    {
     "data": {
      "text/plain": [
       "[7, 7, 5, 3]"
      ]
     },
     "execution_count": 509,
     "metadata": {},
     "output_type": "execute_result"
    }
   ],
   "source": [
    "w"
   ]
  },
  {
   "cell_type": "code",
   "execution_count": 510,
   "id": "0a8c709c",
   "metadata": {},
   "outputs": [],
   "source": [
    "w.append(3)\n",
    "h.append(4)\n"
   ]
  },
  {
   "cell_type": "code",
   "execution_count": 511,
   "id": "1866246c",
   "metadata": {},
   "outputs": [],
   "source": [
    "p.append(9)"
   ]
  },
  {
   "cell_type": "code",
   "execution_count": 505,
   "id": "9d4f8780",
   "metadata": {},
   "outputs": [],
   "source": [
    "p[-1] = 9"
   ]
  },
  {
   "cell_type": "code",
   "execution_count": 512,
   "id": "7e4b4101",
   "metadata": {},
   "outputs": [],
   "source": [
    "res1 = ffd(w,h,20,p)"
   ]
  },
  {
   "cell_type": "code",
   "execution_count": 513,
   "id": "95220734",
   "metadata": {},
   "outputs": [
    {
     "data": {
      "image/png": "[encoded data removed]",
      "text/plain": [
       "<Figure size 432x288 with 1 Axes>"
      ]
     },
     "metadata": {
      "needs_background": "light"
     },
     "output_type": "display_data"
    },
    {
     "data": {
      "text/plain": [
       "<Figure size 432x288 with 0 Axes>"
      ]
     },
     "metadata": {},
     "output_type": "display_data"
    }
   ],
   "source": [
    "x = []\n",
    "y = []\n",
    "w = []\n",
    "h = []\n",
    "p = []\n",
    "number = []\n",
    "for i in range(1,len(res1)):\n",
    "    x.append(res1[i][0])\n",
    "    y.append(res1[i][1])\n",
    "    w.append(res1[i][2])\n",
    "    h.append(res1[i][3])\n",
    "    p.append(res1[i][4])\n",
    "    number.append(res1[i][5])\n",
    "sketch_map(20, w, h, x, y, p, number, '1')"
   ]
  },
  {
   "cell_type": "code",
   "execution_count": 480,
   "id": "0be26309",
   "metadata": {},
   "outputs": [
    {
     "data": {
      "text/plain": [
       "[[0, 0, 0, 0, 0],\n",
       " [2, 0, 7, 13, 2],\n",
       " [11, 0, 7, 13, 11],\n",
       " [17, 13, 3, 4, 17],\n",
       " [8, 13, 5, 8, 8]]"
      ]
     },
     "execution_count": 480,
     "metadata": {},
     "output_type": "execute_result"
    }
   ],
   "source": [
    "res1"
   ]
  },
  {
   "cell_type": "code",
   "execution_count": 522,
   "id": "397ca428",
   "metadata": {},
   "outputs": [],
   "source": [
    "w = {}\n",
    "h = {}\n",
    "p = {}\n",
    "n_small = n // 3\n",
    "n_mid = n //3\n",
    "n_large = n - n_small - n_mid\n",
    "tmp_w = []\n",
    "tmp_h = []\n",
    "for i in range(1, n_small + 1):\n",
    "    tmp_w.append(random.randint(1, 3))\n",
    "    tmp_h.append(random.randint(3, 6))\n",
    "tmp_w.sort()\n",
    "tmp_h.sort()\n",
    "#ww = ww[::-1]\n",
    "#hh = hh[::-1]\n",
    "for i in range(1, n_small + 1):\n",
    "    w[i] = tmp_w[i - 1]\n",
    "    h[i] = tmp_h[i - 1]\n",
    "    p[i] = random.randint(0, 20 - w[i])\n",
    "tmp_w = []\n",
    "tmp_h = []\n",
    "for i in range(n_small + 1, n_small + n_mid + 1):\n",
    "    tmp_w.append(random.randint(4, 6))\n",
    "    tmp_h.append(random.randint(7, 10))\n",
    "tmp_w.sort()\n",
    "tmp_h.sort()\n",
    "#ww = ww[::-1]\n",
    "#hh = hh[::-1]\n",
    "for i in range(n_small + 1, n_small + n_mid + 1):\n",
    "    w[i] = tmp_w[i - n_small - 1]\n",
    "    h[i] = tmp_h[i - n_small - 1]\n",
    "    p[i] = random.randint(0, 20 - w[i])\n",
    "tmp_w = []\n",
    "tmp_h = []\n",
    "for i in range(n_small + n_mid + 1, n + 1):\n",
    "    tmp_w.append(random.randint(7, 9))\n",
    "    tmp_h.append(random.randint(11, 14))\n",
    "tmp_w.sort()\n",
    "tmp_h.sort()\n",
    "#ww = ww[::-1]\n",
    "#hh = hh[::-1]\n",
    "for i in range(n_small + n_mid + 1, n + 1):\n",
    "    w[i] = tmp_w[i - n_small - n_mid - 1]\n",
    "    h[i] = tmp_h[i - n_small - n_mid - 1]\n",
    "    p[i] = random.randint(0, 20 - w[i])"
   ]
  },
  {
   "cell_type": "code",
   "execution_count": 529,
   "id": "530ad413",
   "metadata": {},
   "outputs": [],
   "source": [
    "ww = list(w.values())"
   ]
  },
  {
   "cell_type": "code",
   "execution_count": 530,
   "id": "08374eef",
   "metadata": {},
   "outputs": [
    {
     "data": {
      "text/plain": [
       "[2,\n",
       " 2,\n",
       " 2,\n",
       " 2,\n",
       " 2,\n",
       " 2,\n",
       " 2,\n",
       " 3,\n",
       " 3,\n",
       " 3,\n",
       " 4,\n",
       " 4,\n",
       " 4,\n",
       " 4,\n",
       " 4,\n",
       " 4,\n",
       " 5,\n",
       " 5,\n",
       " 6,\n",
       " 6,\n",
       " 7,\n",
       " 7,\n",
       " 7,\n",
       " 7,\n",
       " 7,\n",
       " 8,\n",
       " 8,\n",
       " 8,\n",
       " 8,\n",
       " 9]"
      ]
     },
     "execution_count": 530,
     "metadata": {},
     "output_type": "execute_result"
    }
   ],
   "source": [
    "ww"
   ]
  },
  {
   "cell_type": "code",
   "execution_count": null,
   "id": "45877ec9",
   "metadata": {},
   "outputs": [],
   "source": []
  }
 ],
 "metadata": {
  "kernelspec": {
   "display_name": "Python 3.9.6 64-bit",
   "language": "python",
   "name": "python396jvsc74a57bd0aee8b7b246df8f9039afb4144a1f6fd8d2ca17a180786b69acc140d282b71a49"
  },
  "language_info": {
   "codemirror_mode": {
    "name": "ipython",
    "version": 3
   },
   "file_extension": ".py",
   "mimetype": "text/x-python",
   "name": "python",
   "nbconvert_exporter": "python",
   "pygments_lexer": "ipython3",
   "version": "3.9.6"
  }
 },
 "nbformat": 4,
 "nbformat_minor": 5
}
